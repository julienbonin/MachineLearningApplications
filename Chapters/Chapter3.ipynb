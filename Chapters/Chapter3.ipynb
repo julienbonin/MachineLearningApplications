{
  "nbformat": 4,
  "nbformat_minor": 0,
  "metadata": {
    "colab": {
      "name": "Chapter3.ipynb",
      "provenance": [],
      "collapsed_sections": [],
      "authorship_tag": "ABX9TyPWPoqP62Yy5mB1fsT4UoeE",
      "include_colab_link": true
    },
    "kernelspec": {
      "name": "python3",
      "display_name": "Python 3"
    }
  },
  "cells": [
    {
      "cell_type": "markdown",
      "metadata": {
        "id": "view-in-github",
        "colab_type": "text"
      },
      "source": [
        "<a href=\"https://colab.research.google.com/github/julienbonin/MachineLearningApplications/blob/master/Chapters/Chapter3.ipynb\" target=\"_parent\"><img src=\"https://colab.research.google.com/assets/colab-badge.svg\" alt=\"Open In Colab\"/></a>"
      ]
    },
    {
      "cell_type": "code",
      "metadata": {
        "id": "CXZl01GDWZWI",
        "outputId": "c901aedb-62ae-4a4e-b83b-7efccbb0782d",
        "colab": {
          "base_uri": "https://localhost:8080/",
          "height": 34
        }
      },
      "source": [
        "from sklearn.datasets import fetch_openml\n",
        "\n",
        "mnist = fetch_openml('mnist_784', version=1) # Returns a dicitonary\n",
        "mnist.keys()"
      ],
      "execution_count": 37,
      "outputs": [
        {
          "output_type": "execute_result",
          "data": {
            "text/plain": [
              "dict_keys(['data', 'target', 'frame', 'feature_names', 'target_names', 'DESCR', 'details', 'categories', 'url'])"
            ]
          },
          "metadata": {
            "tags": []
          },
          "execution_count": 37
        }
      ]
    },
    {
      "cell_type": "code",
      "metadata": {
        "id": "n7qljq7vWqRu",
        "outputId": "86b7abef-9c59-4370-d17d-a6d7046136ef",
        "colab": {
          "base_uri": "https://localhost:8080/",
          "height": 51
        }
      },
      "source": [
        "X = mnist['data'] # Returns an array (matrix since each entry is an array) of pixel images (i.e. hand writen images of numbers)\n",
        "y = mnist['target'] # Classification labels\n",
        "print(X.shape)\n",
        "print(y.shape)"
      ],
      "execution_count": 38,
      "outputs": [
        {
          "output_type": "stream",
          "text": [
            "(70000, 784)\n",
            "(70000,)\n"
          ],
          "name": "stdout"
        }
      ]
    },
    {
      "cell_type": "code",
      "metadata": {
        "id": "-BO7EXQ_XUvb",
        "outputId": "57185190-3a79-4780-af54-11b0331dbbbd",
        "colab": {
          "base_uri": "https://localhost:8080/",
          "height": 248
        }
      },
      "source": [
        "import matplotlib as mpl\n",
        "import matplotlib.pyplot as plt\n",
        "\n",
        "some_digit = X[0] # The first entry of the data (hand writen digits) in vector form\n",
        "some_digit_image = some_digit.reshape(28,28) # Reshape the first entry into a 28x28 matrix since each image is 28x28 pixels\n",
        "\n",
        "plt.imshow(some_digit_image, cmap=mpl.cm.binary, interpolation='nearest')\n",
        "plt.axis('off')\n",
        "plt.show()"
      ],
      "execution_count": null,
      "outputs": [
        {
          "output_type": "display_data",
          "data": {
            "image/png": "[encoded data removed]",
            "text/plain": [
              "<Figure size 432x288 with 1 Axes>"
            ]
          },
          "metadata": {
            "tags": [],
            "needs_background": "light"
          }
        }
      ]
    },
    {
      "cell_type": "code",
      "metadata": {
        "id": "U64sApKXXaMD"
      },
      "source": [
        "import numpy as np # had to do this b/c it was loaded in chapter 2 (a seperate notebook)\n",
        "y = y.astype(np.uint8) # cast y values from string to int"
      ],
      "execution_count": null,
      "outputs": []
    },
    {
      "cell_type": "code",
      "metadata": {
        "id": "-l64EJgGa-NZ"
      },
      "source": [
        "# SEPARATE THE TRAINING SET AND TEST SET\n",
        "X_train, X_test, y_train, y_test = X[:60000], X[60000:], y[:60000], y[60000:]"
      ],
      "execution_count": 39,
      "outputs": []
    },
    {
      "cell_type": "markdown",
      "metadata": {
        "id": "dgZWFqRnc7be"
      },
      "source": [
        "#Training A Binary Classifier"
      ]
    },
    {
      "cell_type": "code",
      "metadata": {
        "id": "0Fy2jsancxdp"
      },
      "source": [
        "y_train_5 = (y_train == 5) # Create an array where each index that contains a 5 (in X_train) is true and each index that does not contain a 5 is false\n",
        "y_test_5 = (y_test == 5)"
      ],
      "execution_count": null,
      "outputs": []
    },
    {
      "cell_type": "code",
      "metadata": {
        "id": "GNv2tPKJdeVY",
        "outputId": "ba5fc626-8028-49b3-cdd5-66b3b087db15",
        "colab": {
          "base_uri": "https://localhost:8080/",
          "height": 119
        }
      },
      "source": [
        "from sklearn.linear_model import SGDClassifier # Stochastic Gradient Decent Classifier\n",
        "\n",
        "sgd_clf = SGDClassifier(random_state=42) # This will be the 'model' after you train it.\n",
        "sgd_clf.fit(X_train, y_train_5) # Train model"
      ],
      "execution_count": null,
      "outputs": [
        {
          "output_type": "execute_result",
          "data": {
            "text/plain": [
              "SGDClassifier(alpha=0.0001, average=False, class_weight=None,\n",
              "              early_stopping=False, epsilon=0.1, eta0=0.0, fit_intercept=True,\n",
              "              l1_ratio=0.15, learning_rate='optimal', loss='hinge',\n",
              "              max_iter=1000, n_iter_no_change=5, n_jobs=None, penalty='l2',\n",
              "              power_t=0.5, random_state=42, shuffle=True, tol=0.001,\n",
              "              validation_fraction=0.1, verbose=0, warm_start=False)"
            ]
          },
          "metadata": {
            "tags": []
          },
          "execution_count": 7
        }
      ]
    },
    {
      "cell_type": "code",
      "metadata": {
        "id": "Ww-sV65qdhN_",
        "outputId": "35810eb7-9906-422e-a682-68bf64856b06",
        "colab": {
          "base_uri": "https://localhost:8080/",
          "height": 34
        }
      },
      "source": [
        "sgd_clf.predict([some_digit]) # recall: some_digit = X[0] <- is a 5"
      ],
      "execution_count": null,
      "outputs": [
        {
          "output_type": "execute_result",
          "data": {
            "text/plain": [
              "array([ True])"
            ]
          },
          "metadata": {
            "tags": []
          },
          "execution_count": 8
        }
      ]
    },
    {
      "cell_type": "markdown",
      "metadata": {
        "id": "DCQY1_acg64c"
      },
      "source": [
        "# **Performance Measures**"
      ]
    },
    {
      "cell_type": "markdown",
      "metadata": {
        "id": "HJfcuHx5gXQx"
      },
      "source": [
        "##Measuring Accuracy Using Cross-Validation"
      ]
    },
    {
      "cell_type": "markdown",
      "metadata": {
        "id": "eTo3j-8SiTTx"
      },
      "source": [
        "<center>Implementing Cross-Validation</center>"
      ]
    },
    {
      "cell_type": "code",
      "metadata": {
        "id": "GgdXqrQCdkEX",
        "outputId": "d04a7024-2ef0-4bc0-f90a-07a07dd00d75",
        "colab": {
          "base_uri": "https://localhost:8080/",
          "height": 122
        }
      },
      "source": [
        "from sklearn.model_selection import StratifiedKFold\n",
        "from sklearn.base import clone\n",
        "\n",
        "skfolds = StratifiedKFold(n_splits=3, random_state=42)\n",
        "\n",
        "for train_index, test_index in skfolds.split(X_train, y_train_5):\n",
        "  clone_clf = clone(sgd_clf)\n",
        "  X_train_folds = X_train[train_index]\n",
        "  y_train_folds = y_train_5[train_index]\n",
        "  X_test_fold = X_train[test_index]\n",
        "  y_test_fold = y_train_5[test_index]\n",
        "\n",
        "  clone_clf.fit(X_train_folds, y_train_folds)\n",
        "  y_pred = clone_clf.predict(X_test_fold)\n",
        "  n_correct = sum(y_pred == y_test_fold)\n",
        "  print(n_correct / len(y_pred))"
      ],
      "execution_count": null,
      "outputs": [
        {
          "output_type": "stream",
          "text": [
            "/usr/local/lib/python3.6/dist-packages/sklearn/model_selection/_split.py:296: FutureWarning: Setting a random_state has no effect since shuffle is False. This will raise an error in 0.24. You should leave random_state to its default (None), or set shuffle=True.\n",
            "  FutureWarning\n"
          ],
          "name": "stderr"
        },
        {
          "output_type": "stream",
          "text": [
            "0.95035\n",
            "0.96035\n",
            "0.9604\n"
          ],
          "name": "stdout"
        }
      ]
    },
    {
      "cell_type": "code",
      "metadata": {
        "id": "LxtgymBchAML",
        "outputId": "9916bcd1-15a0-4ee6-f883-8d88c216d34a",
        "colab": {
          "base_uri": "https://localhost:8080/",
          "height": 34
        }
      },
      "source": [
        "from sklearn.model_selection import cross_val_score\n",
        "#cross_val_score(sgd_clf, X_train, y_train_5, cv=3, scoring='accuracy')\n",
        "cross_val_score(sgd_clf, X_test, y_test, cv=3, scoring='accuracy')"
      ],
      "execution_count": null,
      "outputs": [
        {
          "output_type": "execute_result",
          "data": {
            "text/plain": [
              "array([0.82783443, 0.85448545, 0.8919892 ])"
            ]
          },
          "metadata": {
            "tags": []
          },
          "execution_count": 10
        }
      ]
    },
    {
      "cell_type": "code",
      "metadata": {
        "id": "unjAEuBPqTnO",
        "outputId": "867dc3fc-366d-440f-87b9-715f339f42ff",
        "colab": {
          "base_uri": "https://localhost:8080/",
          "height": 34
        }
      },
      "source": [
        "from sklearn.base import BaseEstimator\n",
        "\n",
        "class Never5Classifier(BaseEstimator):\n",
        "  def fit(self, X, y=None):\n",
        "    pass\n",
        "\n",
        "  def predict(self, X):\n",
        "    return np.zeros((len(X),1), dtype=bool)\n",
        "\n",
        "\n",
        "never_5_clf = Never5Classifier()\n",
        "cross_val_score(never_5_clf, X_train, y_train_5, cv=3, scoring='accuracy')"
      ],
      "execution_count": null,
      "outputs": [
        {
          "output_type": "execute_result",
          "data": {
            "text/plain": [
              "array([0.91125, 0.90855, 0.90915])"
            ]
          },
          "metadata": {
            "tags": []
          },
          "execution_count": 11
        }
      ]
    },
    {
      "cell_type": "markdown",
      "metadata": {
        "id": "gWpXDBPhrUTi"
      },
      "source": [
        "#Confusion Matrix\n"
      ]
    },
    {
      "cell_type": "code",
      "metadata": {
        "id": "3JM8lQw9rFJ9"
      },
      "source": [
        "from sklearn.model_selection import cross_val_predict\n",
        "\n",
        "y_train_pred = cross_val_predict(sgd_clf, X_train, y_train_5, cv=3) # Returns an array of predictions (i.e. something like [True, False, False, True, ...])  "
      ],
      "execution_count": null,
      "outputs": []
    },
    {
      "cell_type": "code",
      "metadata": {
        "id": "IYd1utH08iGE",
        "outputId": "eca4c55d-40b9-40e6-f28b-431dd67d6cc9",
        "colab": {
          "base_uri": "https://localhost:8080/",
          "height": 51
        }
      },
      "source": [
        "from sklearn.metrics import confusion_matrix\n",
        "\n",
        "confusion_matrix(y_train_5, y_train_pred)"
      ],
      "execution_count": null,
      "outputs": [
        {
          "output_type": "execute_result",
          "data": {
            "text/plain": [
              "array([[53892,   687],\n",
              "       [ 1891,  3530]])"
            ]
          },
          "metadata": {
            "tags": []
          },
          "execution_count": 13
        }
      ]
    },
    {
      "cell_type": "markdown",
      "metadata": {
        "id": "MU9PQeKXEL9F"
      },
      "source": [
        "#Precision and Recall"
      ]
    },
    {
      "cell_type": "code",
      "metadata": {
        "id": "u_JSSM-CAshy",
        "outputId": "17d7791e-4382-4106-922b-6dd00dda5438",
        "colab": {
          "base_uri": "https://localhost:8080/",
          "height": 51
        }
      },
      "source": [
        "from sklearn.metrics import precision_score, recall_score\n",
        "\n",
        "precision = precision_score(y_train_5, y_train_pred)\n",
        "recall = recall_score(y_train_5, y_train_pred)\n",
        "\n",
        "print('Precision: ', precision)\n",
        "print('Recall: ', recall)"
      ],
      "execution_count": null,
      "outputs": [
        {
          "output_type": "stream",
          "text": [
            "Precision:  0.8370879772350012\n",
            "Recall:  0.6511713705958311\n"
          ],
          "name": "stdout"
        }
      ]
    },
    {
      "cell_type": "code",
      "metadata": {
        "id": "A7umX_toEkVK",
        "outputId": "ff37fbb2-d5fa-4803-be06-6ca7eecce1a7",
        "colab": {
          "base_uri": "https://localhost:8080/",
          "height": 34
        }
      },
      "source": [
        "from sklearn.metrics import f1_score\n",
        "f1_score(y_train_5, y_train_pred)"
      ],
      "execution_count": null,
      "outputs": [
        {
          "output_type": "execute_result",
          "data": {
            "text/plain": [
              "0.7325171197343846"
            ]
          },
          "metadata": {
            "tags": []
          },
          "execution_count": 15
        }
      ]
    },
    {
      "cell_type": "markdown",
      "metadata": {
        "id": "kACIfetRGYWk"
      },
      "source": [
        "#Precision/Recall Tradeoff"
      ]
    },
    {
      "cell_type": "code",
      "metadata": {
        "id": "BISM9JpvGzhz",
        "outputId": "0949727e-211a-4bdf-af36-9fa7472a179a",
        "colab": {
          "base_uri": "https://localhost:8080/",
          "height": 51
        }
      },
      "source": [
        "y_scores = sgd_clf.decision_function([some_digit])\n",
        "print('y_scores: ',y_scores)\n",
        "\n",
        "threshold = 0\n",
        "print('y_some_digit_pred: ', y_scores > threshold)"
      ],
      "execution_count": null,
      "outputs": [
        {
          "output_type": "stream",
          "text": [
            "y_scores:  [2164.22030239]\n",
            "y_some_digit_pred:  [ True]\n"
          ],
          "name": "stdout"
        }
      ]
    },
    {
      "cell_type": "code",
      "metadata": {
        "id": "vQnnHTVRmoB7",
        "outputId": "183cdd37-7555-4fc3-8961-d69a7e49b688",
        "colab": {
          "base_uri": "https://localhost:8080/",
          "height": 34
        }
      },
      "source": [
        "threshold = 8000\n",
        "print('y_some_digit_pred: ', y_scores > threshold)"
      ],
      "execution_count": null,
      "outputs": [
        {
          "output_type": "stream",
          "text": [
            "y_some_digit_pred:  [False]\n"
          ],
          "name": "stdout"
        }
      ]
    },
    {
      "cell_type": "code",
      "metadata": {
        "id": "QqPXP9oEnqs0"
      },
      "source": [
        "y_scores = cross_val_predict(sgd_clf, X_train, y_train_5, cv=3, method='decision_function')   # Returns an array of decision scores. Will be used to compute precision_recall_curve()"
      ],
      "execution_count": null,
      "outputs": []
    },
    {
      "cell_type": "code",
      "metadata": {
        "id": "EZNuHxEmn6-G"
      },
      "source": [
        "from sklearn.metrics import precision_recall_curve\n",
        "\n",
        "precisions, recalls, thresholds = precision_recall_curve(y_train_5, y_scores)"
      ],
      "execution_count": null,
      "outputs": []
    },
    {
      "cell_type": "code",
      "metadata": {
        "id": "FTWKf-rloDQ3",
        "outputId": "0fc88628-7bf8-41a8-d7e9-a77745796d2b",
        "colab": {
          "base_uri": "https://localhost:8080/",
          "height": 265
        }
      },
      "source": [
        "def plot_precision_recall_vs_threshold(precisions, recalls, thresholds):\n",
        "  plt.plot(thresholds, precisions[:-1], 'b--', label='Precision')\n",
        "  plt.plot(thresholds, recalls[:-1], 'g-', label='Recall')\n",
        "\n",
        "plot_precision_recall_vs_threshold(precisions, recalls, thresholds)\n",
        "plt.show()"
      ],
      "execution_count": null,
      "outputs": [
        {
          "output_type": "display_data",
          "data": {
            "image/png": "[encoded data removed]",
            "text/plain": [
              "<Figure size 432x288 with 1 Axes>"
            ]
          },
          "metadata": {
            "tags": [],
            "needs_background": "light"
          }
        }
      ]
    },
    {
      "cell_type": "code",
      "metadata": {
        "id": "aFjTa67io5rO",
        "outputId": "1f76d3cd-0380-4e29-8300-07b712ae1d34",
        "colab": {
          "base_uri": "https://localhost:8080/",
          "height": 34
        }
      },
      "source": [
        "threshold_90_precision = thresholds[np.argmax(precisions >= 0.90)]\n",
        "print('threshold_90_precision: ', threshold_90_precision)"
      ],
      "execution_count": null,
      "outputs": [
        {
          "output_type": "stream",
          "text": [
            "threshold_90_precision:  3370.0194991439557\n"
          ],
          "name": "stdout"
        }
      ]
    },
    {
      "cell_type": "code",
      "metadata": {
        "id": "fLhMi29bqKi4"
      },
      "source": [
        "y_train_pred_90 = (y_scores >= threshold_90_precision)"
      ],
      "execution_count": null,
      "outputs": []
    },
    {
      "cell_type": "code",
      "metadata": {
        "id": "HasKVzXnqd_6",
        "outputId": "4b18a837-932f-4bf8-ebb6-18591d771527",
        "colab": {
          "base_uri": "https://localhost:8080/",
          "height": 51
        }
      },
      "source": [
        "print('Precision Score: ', precision_score(y_train_5, y_train_pred_90))\n",
        "print('Recall Score: ', recall_score(y_train_5, y_train_pred_90))"
      ],
      "execution_count": null,
      "outputs": [
        {
          "output_type": "stream",
          "text": [
            "Precision Score:  0.9000345901072293\n",
            "Recall Score:  0.4799852425751706\n"
          ],
          "name": "stdout"
        }
      ]
    },
    {
      "cell_type": "markdown",
      "metadata": {
        "id": "28-cTjumrh-i"
      },
      "source": [
        "##The ROC Curve"
      ]
    },
    {
      "cell_type": "code",
      "metadata": {
        "id": "OQzQLPpGqtoU",
        "outputId": "4a64035a-1fed-4388-e5c9-e9890506cb2c",
        "colab": {
          "base_uri": "https://localhost:8080/",
          "height": 265
        }
      },
      "source": [
        "from sklearn.metrics import roc_curve\n",
        "fpr, tpr, thresholds = roc_curve(y_train_5, y_scores)\n",
        "\n",
        "def plot_roc_curve(fpr, tpr, label=None):\n",
        "  plt.plot(fpr, tpr, linewidth=2, label=label)\n",
        "  plt.plot([0,1],[0,1], 'k--')\n",
        "\n",
        "plot_roc_curve(fpr, tpr)\n",
        "plt.show()"
      ],
      "execution_count": null,
      "outputs": [
        {
          "output_type": "display_data",
          "data": {
            "image/png": "[encoded data removed]",
            "text/plain": [
              "<Figure size 432x288 with 1 Axes>"
            ]
          },
          "metadata": {
            "tags": [],
            "needs_background": "light"
          }
        }
      ]
    },
    {
      "cell_type": "code",
      "metadata": {
        "id": "Flf2UGRJrzgV",
        "outputId": "b3386575-a497-46e8-e636-856a3c708261",
        "colab": {
          "base_uri": "https://localhost:8080/",
          "height": 34
        }
      },
      "source": [
        "from sklearn.metrics import roc_auc_score\n",
        "print('Roc_Auc_Score: ', roc_auc_score(y_train_5, y_scores))"
      ],
      "execution_count": null,
      "outputs": [
        {
          "output_type": "stream",
          "text": [
            "Roc_Auc_Score:  0.9604938554008616\n"
          ],
          "name": "stdout"
        }
      ]
    },
    {
      "cell_type": "code",
      "metadata": {
        "id": "bjttXvhZr2xN"
      },
      "source": [
        "from sklearn.ensemble import RandomForestClassifier\n",
        "\n",
        "forest_clf = RandomForestClassifier(random_state=42)\n",
        "y_probas_forest = cross_val_predict(forest_clf, X_train, y_train_5, cv=3, method='predict_proba')"
      ],
      "execution_count": null,
      "outputs": []
    },
    {
      "cell_type": "code",
      "metadata": {
        "id": "1TaLsyCXr5B-",
        "outputId": "15e7cfbd-19ab-4d74-c59c-a761c1fe8963",
        "colab": {
          "base_uri": "https://localhost:8080/",
          "height": 265
        }
      },
      "source": [
        "y_scores_forest = y_probas_forest[:, 1] # all rows in second column\n",
        "\n",
        "fpr_forest, tpr_forest, thresholds_forest = roc_curve(y_train_5, y_scores_forest)\n",
        "\n",
        "plt.plot(fpr, tpr, 'b:', label=\"SGD\")\n",
        "plot_roc_curve(fpr_forest, tpr_forest, 'Random Forest')\n",
        "plt.legend(loc='lower right')\n",
        "plt.show()"
      ],
      "execution_count": null,
      "outputs": [
        {
          "output_type": "display_data",
          "data": {
            "image/png": "[encoded data removed]",
            "text/plain": [
              "<Figure size 432x288 with 1 Axes>"
            ]
          },
          "metadata": {
            "tags": [],
            "needs_background": "light"
          }
        }
      ]
    },
    {
      "cell_type": "code",
      "metadata": {
        "id": "_vaBtXs7xkPT",
        "outputId": "e2e8421e-92bf-42ac-a145-b99b6ecb70b6",
        "colab": {
          "base_uri": "https://localhost:8080/",
          "height": 34
        }
      },
      "source": [
        "print('Roc_auc_score: ', roc_auc_score(y_train_5, y_scores_forest))"
      ],
      "execution_count": null,
      "outputs": [
        {
          "output_type": "stream",
          "text": [
            "Roc_auc_score:  0.9983436731328145\n"
          ],
          "name": "stdout"
        }
      ]
    },
    {
      "cell_type": "markdown",
      "metadata": {
        "id": "vHgZUToFyC_m"
      },
      "source": [
        "## Multiclass Classification"
      ]
    },
    {
      "cell_type": "code",
      "metadata": {
        "id": "KQ3WYWwByGMG",
        "outputId": "0051a007-3063-4b0c-fdc6-1e16e56cd489",
        "colab": {
          "base_uri": "https://localhost:8080/",
          "height": 34
        }
      },
      "source": [
        "sgd_clf.fit(X_train, y_train) # y_train is the label for each digin in X_train, instead of 5 or not 5\n",
        "sgd_clf.predict([some_digit])"
      ],
      "execution_count": null,
      "outputs": [
        {
          "output_type": "execute_result",
          "data": {
            "text/plain": [
              "array([3], dtype=uint8)"
            ]
          },
          "metadata": {
            "tags": []
          },
          "execution_count": 29
        }
      ]
    },
    {
      "cell_type": "code",
      "metadata": {
        "id": "R5BU-unYXXO7",
        "outputId": "d6f0105b-0ded-4e87-c416-a475ca28bf41",
        "colab": {
          "base_uri": "https://localhost:8080/",
          "height": 34
        }
      },
      "source": [
        "from sklearn.multiclass import OneVsOneClassifier\n",
        "ovo_clf = OneVsOneClassifier(SGDClassifier(random_state=42))\n",
        "ovo_clf.fit(X_train, y_train)\n",
        "ovo_clf.predict([some_digit])"
      ],
      "execution_count": null,
      "outputs": [
        {
          "output_type": "execute_result",
          "data": {
            "text/plain": [
              "array([5], dtype=uint8)"
            ]
          },
          "metadata": {
            "tags": []
          },
          "execution_count": 30
        }
      ]
    },
    {
      "cell_type": "code",
      "metadata": {
        "id": "Sqd8rkYap_UJ",
        "outputId": "7a29174f-a0f5-48c4-8e2c-ed6cb16083f5",
        "colab": {
          "base_uri": "https://localhost:8080/",
          "height": 34
        }
      },
      "source": [
        " # Train RandomForestClassifier - Doesn't need OvA or OvO b/c it handles multiple classes natively\n",
        " forest_clf.fit(X_train, y_train)\n",
        " forest_clf.predict([some_digit])"
      ],
      "execution_count": null,
      "outputs": [
        {
          "output_type": "execute_result",
          "data": {
            "text/plain": [
              "array([5], dtype=uint8)"
            ]
          },
          "metadata": {
            "tags": []
          },
          "execution_count": 31
        }
      ]
    },
    {
      "cell_type": "code",
      "metadata": {
        "id": "ZoZsvTu8znGa",
        "outputId": "67e4342e-f5d0-4fd1-c188-2454f02ac74e",
        "colab": {
          "base_uri": "https://localhost:8080/",
          "height": 34
        }
      },
      "source": [
        "forest_clf.predict_proba([some_digit])"
      ],
      "execution_count": null,
      "outputs": [
        {
          "output_type": "execute_result",
          "data": {
            "text/plain": [
              "array([[0.  , 0.  , 0.01, 0.08, 0.  , 0.9 , 0.  , 0.  , 0.  , 0.01]])"
            ]
          },
          "metadata": {
            "tags": []
          },
          "execution_count": 32
        }
      ]
    },
    {
      "cell_type": "code",
      "metadata": {
        "id": "8xS9bewuz4O8"
      },
      "source": [
        "from sklearn.preprocessing import StandardScaler\n",
        "scaler = StandardScaler()\n",
        "X_train_scaled = scaler.fit_transform(X_train.astype(np.float64))\n",
        "cross_val_score(sgd_clf, X_train_scaled, y_train, cv=3, scoring='accuracy')"
      ],
      "execution_count": null,
      "outputs": []
    },
    {
      "cell_type": "markdown",
      "metadata": {
        "id": "Hu2F_AkfLI_F"
      },
      "source": [
        "#Error Analysis\n"
      ]
    },
    {
      "cell_type": "code",
      "metadata": {
        "id": "vesw40FS0baf"
      },
      "source": [
        ""
      ],
      "execution_count": null,
      "outputs": []
    },
    {
      "cell_type": "markdown",
      "metadata": {
        "id": "qB2IrKCdf8hj"
      },
      "source": [
        "#Chapter 3 - Exercises"
      ]
    },
    {
      "cell_type": "markdown",
      "metadata": {
        "id": "O64lLqB7gPq6"
      },
      "source": [
        "##Problem 1\n",
        "\n",
        "#### Try to build a classifier for the MNIST dataset that achieves over 97% accuracy on the test set. Hint: the KNeighborsClassifier works quite well for this task; you just need to find good hyperparameter values (try a grid search on the weights and n_neighbors hyperparameters)."
      ]
    },
    {
      "cell_type": "code",
      "metadata": {
        "id": "fg1BKp5sf92N"
      },
      "source": [
        "from sklearn.neighbors import KNeighborsClassifier\n",
        "from sklearn.model_selection import cross_val_score\n",
        "import matplotlib.pyplot as plt\n",
        "\n",
        "# This was my original code\n",
        "#knn_clr = KNeighborsClassifier(n_neighbors=5, n_jobs=-1,algorithm='brute',weights='distance')\n",
        "#scores = cross_val_score(knn_clr, X_train, y_train, cv=3, scoring='accuracy')\n",
        "#knn_clr = KNeighborsClassifier(n_neighbors=100, n_jobs=-1,algorithm='brute',weights='distance')\n",
        "#scores = cross_val_score(knn_clr, X_train, y_train, cv=3, scoring='accuracy')\n",
        "#knn_clr = KNeighborsClassifier(n_neighbors=500, n_jobs=-1,algorithm='brute',weights='distance')\n",
        "#scores = cross_val_score(knn_clr, X_train, y_train, cv=3, scoring='accuracy')\n",
        "#knn_clr.fit(X_train, y_train)\n",
        "\n",
        "# The code below is from a youtube video since I was having issues with the above code. (https://www.youtube.com/watch?v=Gol_qOgRqfA)\n",
        "k_range = range(1,31)\n",
        "k_scores = []\n",
        "for k in k_range:\n",
        "  knn_clf = KNeighborsClassifier(n_neighbors=k)\n",
        "  scores = cross_val_score(knn_clf, X_train, y_train, cv=4, scoring='accuracy')\n",
        "  k_scores.append(scores.mean())\n",
        "print('K-Scores: ', k_scores)\n",
        "\n",
        "plt.plot(k_range, k_scores)\n",
        "plt.xlabel('Value of K for KNN')\n",
        "plt.ylabel('Cross-Validated Accuracy')"
      ],
      "execution_count": null,
      "outputs": []
    },
    {
      "cell_type": "code",
      "metadata": {
        "id": "891WF0JThfjG",
        "outputId": "eafed8b7-2680-443d-8417-9b2d1d5a4b0a",
        "colab": {
          "base_uri": "https://localhost:8080/",
          "height": 102
        }
      },
      "source": [
        "from sklearn.model_selection import GridSearchCV\n",
        "import numpy as np\n",
        "\n",
        "k_range = np.array(range(1, 31))\n",
        "print(k_range,'\\n')\n",
        "\n",
        "par_grid = {'n_neighbors':k_range}\n",
        "print(par_grid)\n",
        "knn_clf = KNeighborsClassifier(n_jobs=-1,algorithm='brute')\n",
        "grid = GridSearchCV(knn_clf, par_grid, cv=5, scoring='accuracy')"
      ],
      "execution_count": null,
      "outputs": [
        {
          "output_type": "stream",
          "text": [
            "[ 1  2  3  4  5  6  7  8  9 10 11 12 13 14 15 16 17 18 19 20 21 22 23 24\n",
            " 25 26 27 28 29 30] \n",
            "\n",
            "{'n_neighbors': array([ 1,  2,  3,  4,  5,  6,  7,  8,  9, 10, 11, 12, 13, 14, 15, 16, 17,\n",
            "       18, 19, 20, 21, 22, 23, 24, 25, 26, 27, 28, 29, 30])}\n"
          ],
          "name": "stdout"
        }
      ]
    },
    {
      "cell_type": "code",
      "metadata": {
        "id": "msmo2MHeAxPU"
      },
      "source": [
        "grid.fit(X_train, y_train) # Gettin a similar error as below"
      ],
      "execution_count": null,
      "outputs": []
    },
    {
      "cell_type": "code",
      "metadata": {
        "id": "NOOSUh_U2FZM",
        "outputId": "2aa4dc99-1d73-4875-ba6f-7a6ec29dce06",
        "colab": {
          "base_uri": "https://localhost:8080/",
          "height": 232
        }
      },
      "source": [
        "# This code is from the solutions\n",
        "\n",
        "from sklearn.model_selection import GridSearchCV\n",
        "\n",
        "param_grid = [{'weights': [\"uniform\", \"distance\"], 'n_neighbors': [3, 4, 5]}]\n",
        "\n",
        "knn_clf = KNeighborsClassifier(n_jobs=-1)\n",
        "grid_search = GridSearchCV(knn_clf, param_grid, cv=3, verbose=3)\n",
        "grid_search.fit(X_train, y_train)"
      ],
      "execution_count": 1,
      "outputs": [
        {
          "output_type": "error",
          "ename": "NameError",
          "evalue": "ignored",
          "traceback": [
            "\u001b[0;31m---------------------------------------------------------------------------\u001b[0m",
            "\u001b[0;31mNameError\u001b[0m                                 Traceback (most recent call last)",
            "\u001b[0;32m<ipython-input-1-80f65e64cbcb>\u001b[0m in \u001b[0;36m<module>\u001b[0;34m()\u001b[0m\n\u001b[1;32m      5\u001b[0m \u001b[0mparam_grid\u001b[0m \u001b[0;34m=\u001b[0m \u001b[0;34m[\u001b[0m\u001b[0;34m{\u001b[0m\u001b[0;34m'weights'\u001b[0m\u001b[0;34m:\u001b[0m \u001b[0;34m[\u001b[0m\u001b[0;34m\"uniform\"\u001b[0m\u001b[0;34m,\u001b[0m \u001b[0;34m\"distance\"\u001b[0m\u001b[0;34m]\u001b[0m\u001b[0;34m,\u001b[0m \u001b[0;34m'n_neighbors'\u001b[0m\u001b[0;34m:\u001b[0m \u001b[0;34m[\u001b[0m\u001b[0;36m3\u001b[0m\u001b[0;34m,\u001b[0m \u001b[0;36m4\u001b[0m\u001b[0;34m,\u001b[0m \u001b[0;36m5\u001b[0m\u001b[0;34m]\u001b[0m\u001b[0;34m}\u001b[0m\u001b[0;34m]\u001b[0m\u001b[0;34m\u001b[0m\u001b[0;34m\u001b[0m\u001b[0m\n\u001b[1;32m      6\u001b[0m \u001b[0;34m\u001b[0m\u001b[0m\n\u001b[0;32m----> 7\u001b[0;31m \u001b[0mknn_clf\u001b[0m \u001b[0;34m=\u001b[0m \u001b[0mKNeighborsClassifier\u001b[0m\u001b[0;34m(\u001b[0m\u001b[0mn_jobs\u001b[0m\u001b[0;34m=\u001b[0m\u001b[0;34m-\u001b[0m\u001b[0;36m1\u001b[0m\u001b[0;34m)\u001b[0m\u001b[0;34m\u001b[0m\u001b[0;34m\u001b[0m\u001b[0m\n\u001b[0m\u001b[1;32m      8\u001b[0m \u001b[0mgrid_search\u001b[0m \u001b[0;34m=\u001b[0m \u001b[0mGridSearchCV\u001b[0m\u001b[0;34m(\u001b[0m\u001b[0mknn_clf\u001b[0m\u001b[0;34m,\u001b[0m \u001b[0mparam_grid\u001b[0m\u001b[0;34m,\u001b[0m \u001b[0mcv\u001b[0m\u001b[0;34m=\u001b[0m\u001b[0;36m3\u001b[0m\u001b[0;34m,\u001b[0m \u001b[0mverbose\u001b[0m\u001b[0;34m=\u001b[0m\u001b[0;36m3\u001b[0m\u001b[0;34m)\u001b[0m\u001b[0;34m\u001b[0m\u001b[0;34m\u001b[0m\u001b[0m\n\u001b[1;32m      9\u001b[0m \u001b[0mgrid_search\u001b[0m\u001b[0;34m.\u001b[0m\u001b[0mfit\u001b[0m\u001b[0;34m(\u001b[0m\u001b[0mX_train\u001b[0m\u001b[0;34m,\u001b[0m \u001b[0my_train\u001b[0m\u001b[0;34m)\u001b[0m\u001b[0;34m\u001b[0m\u001b[0;34m\u001b[0m\u001b[0m\n",
            "\u001b[0;31mNameError\u001b[0m: name 'KNeighborsClassifier' is not defined"
          ]
        }
      ]
    },
    {
      "cell_type": "markdown",
      "metadata": {
        "id": "Cn1LQCYW0uIs"
      },
      "source": [
        "## Problem 2\n",
        "\n",
        "#### Write a function that can shift an MNIST image in any direction (left, right, up, or down) by one pixel. Then, for each image in the training set, create four shif‐ted copies (one per direction) and add them to the training set. Finally, train your best model on this expanded training set and measure its accuracy on the test set. You should observe that your model performs even better now! This technique of artificially growing the training set is called data augmentation or training set expansion."
      ]
    },
    {
      "cell_type": "code",
      "metadata": {
        "id": "0F_Z41j800Cc"
      },
      "source": [
        "#from sklearn.model_selection import train_test_split # use to split the new test and train data\n",
        "import numpy as np\n",
        "\n",
        "#def shiftLeft(image):\n",
        "Xorig = X[0]\n",
        "Image = X[0].reshape((28,28))\n",
        "newrow = np.zeros(28)\n",
        "i=0\n",
        "while (i<20):\n",
        "  np.delete(Image,0)\n",
        "  np.append(Image, newrow)\n",
        "  i += 1\n",
        "\n",
        "X[0] = Image.flatten()"
      ],
      "execution_count": null,
      "outputs": []
    },
    {
      "cell_type": "code",
      "metadata": {
        "id": "WkME0KHKCDDE"
      },
      "source": [
        "import matplotlib as mpl\n",
        "import matplotlib.pyplot as plt\n",
        "\n",
        "#some_digit = X[0] # The first entry of the data (hand writen digits) in vector form\n",
        "#some_digit_image = some_digit.reshape(28,28) # Reshape the first entry into a 28x28 matrix since each image is 28x28 pixels\n",
        "digit1 = Xorig.reshape((28,28))\n",
        "digit2 = Image.reshape((28,28))\n",
        "\n",
        "\n",
        "plt.imshow(digit1, cmap=mpl.cm.binary, interpolation='nearest')\n",
        "\n",
        "\n",
        "plt.show()"
      ],
      "execution_count": null,
      "outputs": []
    },
    {
      "cell_type": "code",
      "metadata": {
        "id": "bYUsFVo1E41l"
      },
      "source": [
        "plt.imshow(digit2, cmap=mpl.cm.binary, interpolation='nearest')\n",
        "\n",
        "plt.show()\n"
      ],
      "execution_count": null,
      "outputs": []
    },
    {
      "cell_type": "code",
      "metadata": {
        "id": "hXJch43NFibh"
      },
      "source": [
        ""
      ],
      "execution_count": null,
      "outputs": []
    },
    {
      "cell_type": "markdown",
      "metadata": {
        "id": "CogI-lDTGHWl"
      },
      "source": [
        "\n",
        "##Problem 3\n",
        "\n",
        "####Tackle the Titanic dataset. A great place to start is on Kaggle."
      ]
    },
    {
      "cell_type": "code",
      "metadata": {
        "id": "4OhdE6UbGKL0",
        "outputId": "0c10f8e8-8c95-40e0-e47a-2c681d57e1fa",
        "colab": {
          "base_uri": "https://localhost:8080/",
          "height": 817
        }
      },
      "source": [
        "# This cell is code I wrote for this problem. \n",
        "import pandas as pd\n",
        "from sklearn.ensemble import RandomForestClassifier\n",
        "\n",
        "forest_clf = RandomForestClassifier(random_state=42)\n",
        "\n",
        "# import data from github\n",
        "train_url = 'https://raw.githubusercontent.com/julienbonin/MachineLearningApplications/master/Chapters/Chapter3/train.csv'\n",
        "test_url = 'https://raw.githubusercontent.com/julienbonin/MachineLearningApplications/master/Chapters/Chapter3/test.csv'\n",
        "\n",
        "# I dropped some data that I thought wouldn't be as relevant as others.\n",
        "# I also couldn't come up with a good way of converting these values into numbers.\n",
        "X_train = pd.read_csv(train_url).drop(['Name','Ticket','Cabin', 'Embarked'], axis=1)\n",
        "X_test = pd.read_csv(test_url).drop(['Name','Ticket','Cabin', 'Embarked'], axis=1)\n",
        "X_test = X_test[X_train.drop(['Survived'], axis=1).columns.values] # this line reorders the columns of the test set to match the train set. I'm not sure if this will make a difference.\n",
        "\n",
        "# set NAN values to 0\n",
        "X_train.fillna(0.0)\n",
        "X_test.fillna(0.0)\n",
        "\n",
        "# Convert sex 'male/female' into '0/1'\n",
        "# Since there ML algorithms like numbers, I decided to convert the 'Sex' into\n",
        "# 1 or 0\n",
        "new_data = []\n",
        "for row in X_train['Sex']:\n",
        "  if (row == 'male'):\n",
        "    new_data.append(0)\n",
        "  else:\n",
        "    new_data.append(1)\n",
        "X_train['Sex'] = new_data\n",
        "\n",
        "# Do same thing for test set\n",
        "new_data = []\n",
        "for row in X_test['Sex']:\n",
        "  if (row == 'male'):\n",
        "    new_data.append(0)\n",
        "  else:\n",
        "    new_data.append(1)\n",
        "X_test['Sex'] = new_data\n",
        "\n",
        "# These are the labels we'll be using.\n",
        "y_train = X_train['Survived']\n",
        "\n",
        "forest_clf.fit(X_train, y_train) # I'm running into an error on this line. For some reason, fillna(0) isn't working on X_train above \n",
        "\n",
        "#cross_val_score(forest_clf, X_test, y_test, cv=3, scoring='accuracy')\n",
        "\n"
      ],
      "execution_count": null,
      "outputs": [
        {
          "output_type": "stream",
          "text": [
            "     PassengerId  Survived  Pclass  Sex   Age  SibSp  Parch     Fare\n",
            "0              1         0       3    0  22.0      1      0   7.2500\n",
            "1              2         1       1    1  38.0      1      0  71.2833\n",
            "2              3         1       3    1  26.0      0      0   7.9250\n",
            "3              4         1       1    1  35.0      1      0  53.1000\n",
            "4              5         0       3    0  35.0      0      0   8.0500\n",
            "..           ...       ...     ...  ...   ...    ...    ...      ...\n",
            "886          887         0       2    0  27.0      0      0  13.0000\n",
            "887          888         1       1    1  19.0      0      0  30.0000\n",
            "888          889         0       3    1   NaN      1      2  23.4500\n",
            "889          890         1       1    0  26.0      0      0  30.0000\n",
            "890          891         0       3    0  32.0      0      0   7.7500\n",
            "\n",
            "[891 rows x 8 columns]\n",
            "0      0\n",
            "1      1\n",
            "2      1\n",
            "3      1\n",
            "4      0\n",
            "      ..\n",
            "886    0\n",
            "887    1\n",
            "888    0\n",
            "889    1\n",
            "890    0\n",
            "Name: Survived, Length: 891, dtype: int64\n"
          ],
          "name": "stdout"
        },
        {
          "output_type": "error",
          "ename": "ValueError",
          "evalue": "ignored",
          "traceback": [
            "\u001b[0;31m---------------------------------------------------------------------------\u001b[0m",
            "\u001b[0;31mValueError\u001b[0m                                Traceback (most recent call last)",
            "\u001b[0;32m<ipython-input-28-136fe125aaba>\u001b[0m in \u001b[0;36m<module>\u001b[0;34m()\u001b[0m\n\u001b[1;32m     47\u001b[0m \u001b[0mprint\u001b[0m\u001b[0;34m(\u001b[0m\u001b[0my_train\u001b[0m\u001b[0;34m)\u001b[0m\u001b[0;34m\u001b[0m\u001b[0;34m\u001b[0m\u001b[0m\n\u001b[1;32m     48\u001b[0m \u001b[0;34m\u001b[0m\u001b[0m\n\u001b[0;32m---> 49\u001b[0;31m \u001b[0mforest_clf\u001b[0m\u001b[0;34m.\u001b[0m\u001b[0mfit\u001b[0m\u001b[0;34m(\u001b[0m\u001b[0mX_train\u001b[0m\u001b[0;34m,\u001b[0m \u001b[0my_train\u001b[0m\u001b[0;34m)\u001b[0m \u001b[0;31m# I'm running into an error on this line.\u001b[0m\u001b[0;34m\u001b[0m\u001b[0;34m\u001b[0m\u001b[0m\n\u001b[0m\u001b[1;32m     50\u001b[0m \u001b[0;34m\u001b[0m\u001b[0m\n\u001b[1;32m     51\u001b[0m \u001b[0;31m###forest_clf.predict(X_test)\u001b[0m\u001b[0;34m\u001b[0m\u001b[0;34m\u001b[0m\u001b[0;34m\u001b[0m\u001b[0m\n",
            "\u001b[0;32m/usr/local/lib/python3.6/dist-packages/sklearn/ensemble/_forest.py\u001b[0m in \u001b[0;36mfit\u001b[0;34m(self, X, y, sample_weight)\u001b[0m\n\u001b[1;32m    293\u001b[0m         \"\"\"\n\u001b[1;32m    294\u001b[0m         \u001b[0;31m# Validate or convert input data\u001b[0m\u001b[0;34m\u001b[0m\u001b[0;34m\u001b[0m\u001b[0;34m\u001b[0m\u001b[0m\n\u001b[0;32m--> 295\u001b[0;31m         \u001b[0mX\u001b[0m \u001b[0;34m=\u001b[0m \u001b[0mcheck_array\u001b[0m\u001b[0;34m(\u001b[0m\u001b[0mX\u001b[0m\u001b[0;34m,\u001b[0m \u001b[0maccept_sparse\u001b[0m\u001b[0;34m=\u001b[0m\u001b[0;34m\"csc\"\u001b[0m\u001b[0;34m,\u001b[0m \u001b[0mdtype\u001b[0m\u001b[0;34m=\u001b[0m\u001b[0mDTYPE\u001b[0m\u001b[0;34m)\u001b[0m\u001b[0;34m\u001b[0m\u001b[0;34m\u001b[0m\u001b[0m\n\u001b[0m\u001b[1;32m    296\u001b[0m         \u001b[0my\u001b[0m \u001b[0;34m=\u001b[0m \u001b[0mcheck_array\u001b[0m\u001b[0;34m(\u001b[0m\u001b[0my\u001b[0m\u001b[0;34m,\u001b[0m \u001b[0maccept_sparse\u001b[0m\u001b[0;34m=\u001b[0m\u001b[0;34m'csc'\u001b[0m\u001b[0;34m,\u001b[0m \u001b[0mensure_2d\u001b[0m\u001b[0;34m=\u001b[0m\u001b[0;32mFalse\u001b[0m\u001b[0;34m,\u001b[0m \u001b[0mdtype\u001b[0m\u001b[0;34m=\u001b[0m\u001b[0;32mNone\u001b[0m\u001b[0;34m)\u001b[0m\u001b[0;34m\u001b[0m\u001b[0;34m\u001b[0m\u001b[0m\n\u001b[1;32m    297\u001b[0m         \u001b[0;32mif\u001b[0m \u001b[0msample_weight\u001b[0m \u001b[0;32mis\u001b[0m \u001b[0;32mnot\u001b[0m \u001b[0;32mNone\u001b[0m\u001b[0;34m:\u001b[0m\u001b[0;34m\u001b[0m\u001b[0;34m\u001b[0m\u001b[0m\n",
            "\u001b[0;32m/usr/local/lib/python3.6/dist-packages/sklearn/utils/validation.py\u001b[0m in \u001b[0;36mcheck_array\u001b[0;34m(array, accept_sparse, accept_large_sparse, dtype, order, copy, force_all_finite, ensure_2d, allow_nd, ensure_min_samples, ensure_min_features, warn_on_dtype, estimator)\u001b[0m\n\u001b[1;32m    576\u001b[0m         \u001b[0;32mif\u001b[0m \u001b[0mforce_all_finite\u001b[0m\u001b[0;34m:\u001b[0m\u001b[0;34m\u001b[0m\u001b[0;34m\u001b[0m\u001b[0m\n\u001b[1;32m    577\u001b[0m             _assert_all_finite(array,\n\u001b[0;32m--> 578\u001b[0;31m                                allow_nan=force_all_finite == 'allow-nan')\n\u001b[0m\u001b[1;32m    579\u001b[0m \u001b[0;34m\u001b[0m\u001b[0m\n\u001b[1;32m    580\u001b[0m     \u001b[0;32mif\u001b[0m \u001b[0mensure_min_samples\u001b[0m \u001b[0;34m>\u001b[0m \u001b[0;36m0\u001b[0m\u001b[0;34m:\u001b[0m\u001b[0;34m\u001b[0m\u001b[0;34m\u001b[0m\u001b[0m\n",
            "\u001b[0;32m/usr/local/lib/python3.6/dist-packages/sklearn/utils/validation.py\u001b[0m in \u001b[0;36m_assert_all_finite\u001b[0;34m(X, allow_nan, msg_dtype)\u001b[0m\n\u001b[1;32m     58\u001b[0m                     \u001b[0mmsg_err\u001b[0m\u001b[0;34m.\u001b[0m\u001b[0mformat\u001b[0m\u001b[0;34m\u001b[0m\u001b[0;34m\u001b[0m\u001b[0m\n\u001b[1;32m     59\u001b[0m                     (type_err,\n\u001b[0;32m---> 60\u001b[0;31m                      msg_dtype if msg_dtype is not None else X.dtype)\n\u001b[0m\u001b[1;32m     61\u001b[0m             )\n\u001b[1;32m     62\u001b[0m     \u001b[0;31m# for object dtype data, we only check for NaNs (GH-13254)\u001b[0m\u001b[0;34m\u001b[0m\u001b[0;34m\u001b[0m\u001b[0;34m\u001b[0m\u001b[0m\n",
            "\u001b[0;31mValueError\u001b[0m: Input contains NaN, infinity or a value too large for dtype('float32')."
          ]
        }
      ]
    },
    {
      "cell_type": "code",
      "metadata": {
        "id": "ueUEi_A7I4ok"
      },
      "source": [
        ""
      ],
      "execution_count": null,
      "outputs": []
    },
    {
      "cell_type": "code",
      "metadata": {
        "id": "Cax6S1MXJVdd"
      },
      "source": [
        ""
      ],
      "execution_count": null,
      "outputs": []
    }
  ]
}