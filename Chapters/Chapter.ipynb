{
  "nbformat": 4,
  "nbformat_minor": 0,
  "metadata": {
    "colab": {
      "name": "Chapter2_Project1.ipynb",
      "provenance": [],
      "collapsed_sections": [],
      "include_colab_link": true
    },
    "kernelspec": {
      "name": "python3",
      "display_name": "Python 3"
    }
  },
  "cells": [
    {
      "cell_type": "markdown",
      "metadata": {
        "id": "view-in-github",
        "colab_type": "text"
      },
      "source": [
        "<a href=\"https://colab.research.google.com/github/julienbonin/MachineLearningApplications/blob/master/Chapters/Chapter.ipynb\" target=\"_parent\"><img src=\"https://colab.research.google.com/assets/colab-badge.svg\" alt=\"Open In Colab\"/></a>"
      ]
    },
    {
      "cell_type": "code",
      "metadata": {
        "id": "iF71_HHC2usZ",
        "colab_type": "code",
        "colab": {}
      },
      "source": [
        "import os\n",
        "import tarfile\n",
        "from six.moves import urllib\n",
        "import pandas as pd\n",
        "%matplotlib inline\n",
        "import matplotlib.pyplot as plt\n",
        "import numpy as np\n",
        "from sklearn.model_selection import StratifiedShuffleSplit\n",
        "from pandas.plotting import scatter_matrix\n",
        "from sklearn.impute import SimpleImputer\n",
        "from sklearn.preprocessing import OrdinalEncoder\n",
        "from sklearn.preprocessing import OneHotEncoder\n",
        "from sklearn.base import BaseEstimator, TransformerMixin\n",
        "from sklearn.pipeline import Pipeline\n",
        "from sklearn.preprocessing import StandardScaler\n",
        "from sklearn.compose import ColumnTransformer\n",
        "from sklearn.linear_model import LinearRegression\n",
        "from sklearn.metrics import mean_squared_error\n",
        "from sklearn.tree import DecisionTreeRegressor\n",
        "from sklearn.model_selection import cross_val_score\n"
      ],
      "execution_count": null,
      "outputs": []
    },
    {
      "cell_type": "code",
      "metadata": {
        "id": "E4ODiY2Z2960",
        "colab_type": "code",
        "colab": {}
      },
      "source": [
        "DOWNLOAD_ROOT = 'https://raw.githubusercontent.com/ageron/handson-ml2/master/'\n",
        "HOUSING_PATH = os.path.join('datasets', 'housing')\n",
        "HOUSING_URL = DOWNLOAD_ROOT + 'datasets/housing/housing.tgz'"
      ],
      "execution_count": null,
      "outputs": []
    },
    {
      "cell_type": "code",
      "metadata": {
        "id": "GGVxWxJ03Xcb",
        "colab_type": "code",
        "colab": {}
      },
      "source": [
        "def fetch_housing_data(housing_url=HOUSING_URL, housing_path=HOUSING_PATH):\n",
        "  if not os.path.isdir(housing_path):\n",
        "    os.makedirs(housing_path)\n",
        "    tgz_path = os.path.join(housing_path, \"housing.tgz\")\n",
        "    urllib.request.urlretrieve(housing_url, tgz_path)\n",
        "    housing_tgz = tarfile.open(tgz_path)\n",
        "    housing_tgz.extractall(path=housing_path)\n",
        "    housing_tgz.close()"
      ],
      "execution_count": null,
      "outputs": []
    },
    {
      "cell_type": "code",
      "metadata": {
        "id": "7tpyo_wR4o26",
        "colab_type": "code",
        "colab": {}
      },
      "source": [
        "def load_housing_data(housing_path=HOUSING_PATH):\n",
        "  csv_path = os.path.join(housing_path, \"housing.csv\")\n",
        "  return pd.read_csv(csv_path)"
      ],
      "execution_count": null,
      "outputs": []
    },
    {
      "cell_type": "code",
      "metadata": {
        "id": "TjA7mxRn435o",
        "colab_type": "code",
        "colab": {}
      },
      "source": [
        "fetch_housing_data()\n",
        "housing = load_housing_data()\n",
        "housing.head()"
      ],
      "execution_count": null,
      "outputs": []
    },
    {
      "cell_type": "code",
      "metadata": {
        "id": "nAoui68P5tSr",
        "colab_type": "code",
        "colab": {}
      },
      "source": [
        "housing.info()"
      ],
      "execution_count": null,
      "outputs": []
    },
    {
      "cell_type": "code",
      "metadata": {
        "id": "XCjRGvLtIx9m",
        "colab_type": "code",
        "colab": {}
      },
      "source": [
        "housing['ocean_proximity'].value_counts()"
      ],
      "execution_count": null,
      "outputs": []
    },
    {
      "cell_type": "code",
      "metadata": {
        "id": "9PtN-v3QJUXK",
        "colab_type": "code",
        "colab": {}
      },
      "source": [
        "housing.describe()"
      ],
      "execution_count": null,
      "outputs": []
    },
    {
      "cell_type": "code",
      "metadata": {
        "id": "GmqqHkChJdpz",
        "colab_type": "code",
        "colab": {}
      },
      "source": [
        "housing.hist(bins=50, figsize=(20,15))\n",
        "plt.show()"
      ],
      "execution_count": null,
      "outputs": []
    },
    {
      "cell_type": "code",
      "metadata": {
        "id": "LvgFCbjbKH25",
        "colab_type": "code",
        "colab": {}
      },
      "source": [
        "def split_train_test(data, test_ratio):\n",
        "  shuffled_indices = np.random.permutation(len(data))\n",
        "  test_set_size = int(len(data) * test_ratio)\n",
        "  test_indices = shuffled_indices[:test_set_size]\n",
        "  train_indices = shuffled_indices[test_set_size:]\n",
        "  return data.iloc[train_indices], data.iloc[test_indices]"
      ],
      "execution_count": null,
      "outputs": []
    },
    {
      "cell_type": "code",
      "metadata": {
        "id": "9Jz2_xTkMa3c",
        "colab_type": "code",
        "colab": {}
      },
      "source": [
        "train_set, test_set = split_train_test(housing, 0.2)"
      ],
      "execution_count": null,
      "outputs": []
    },
    {
      "cell_type": "code",
      "metadata": {
        "id": "YQh66hOrMdJ6",
        "colab_type": "code",
        "colab": {}
      },
      "source": [
        "len(train_set)"
      ],
      "execution_count": null,
      "outputs": []
    },
    {
      "cell_type": "code",
      "metadata": {
        "id": "quMBJ5AvMlTD",
        "colab_type": "code",
        "colab": {}
      },
      "source": [
        "len(test_set)"
      ],
      "execution_count": null,
      "outputs": []
    },
    {
      "cell_type": "code",
      "metadata": {
        "id": "k33NEeCmOW_S",
        "colab_type": "code",
        "colab": {}
      },
      "source": [
        "housing['income_cat'] = pd.cut(housing['median_income'], bins=[0., 1.5, 3.0, 4.5, 6., np.inf], labels=[1,2,3,4,5])\n",
        "housing['income_cat'].hist()"
      ],
      "execution_count": null,
      "outputs": []
    },
    {
      "cell_type": "code",
      "metadata": {
        "id": "FdcG4Ko1QsRT",
        "colab_type": "code",
        "colab": {}
      },
      "source": [
        "split = StratifiedShuffleSplit(n_splits=1, test_size=0.2, random_state=42)\n",
        "for train_index, test_index in split.split(housing, housing['income_cat']):\n",
        "  strat_train_set = housing.loc[train_index]\n",
        "  strat_test_set = housing.loc[test_index]"
      ],
      "execution_count": null,
      "outputs": []
    },
    {
      "cell_type": "code",
      "metadata": {
        "id": "0Z7kl0WKRoNS",
        "colab_type": "code",
        "colab": {}
      },
      "source": [
        "strat_test_set['income_cat'].value_counts() / len(strat_test_set)"
      ],
      "execution_count": null,
      "outputs": []
    },
    {
      "cell_type": "code",
      "metadata": {
        "id": "Kx2dN46nRsRL",
        "colab_type": "code",
        "colab": {}
      },
      "source": [
        "for set_ in (strat_train_set, strat_test_set):\n",
        "  set_.drop('income_cat', axis=1, inplace=True)"
      ],
      "execution_count": null,
      "outputs": []
    },
    {
      "cell_type": "code",
      "metadata": {
        "id": "taAM_x3oSh0T",
        "colab_type": "code",
        "colab": {}
      },
      "source": [
        "housing = strat_train_set.copy()"
      ],
      "execution_count": null,
      "outputs": []
    },
    {
      "cell_type": "code",
      "metadata": {
        "id": "o0wswHGvS-vt",
        "colab_type": "code",
        "colab": {}
      },
      "source": [
        "housing.plot(kind='scatter', x='longitude', y='latitude', alpha=0.1)"
      ],
      "execution_count": null,
      "outputs": []
    },
    {
      "cell_type": "code",
      "metadata": {
        "id": "CONNiMS7THnf",
        "colab_type": "code",
        "colab": {}
      },
      "source": [
        "housing.plot(kind='scatter', x='longitude', y='latitude', alpha=0.4, s=housing['population']/100, label='population', figsize=(10,7), c='median_house_value', cmap=plt.get_cmap('jet'), colorbar=True)\n",
        "plt.legend()"
      ],
      "execution_count": null,
      "outputs": []
    },
    {
      "cell_type": "code",
      "metadata": {
        "id": "1d87xdO4UCU2",
        "colab_type": "code",
        "colab": {}
      },
      "source": [
        "corr_matrix = housing.corr()"
      ],
      "execution_count": null,
      "outputs": []
    },
    {
      "cell_type": "code",
      "metadata": {
        "id": "-Smweyp8Ux5j",
        "colab_type": "code",
        "colab": {}
      },
      "source": [
        "corr_matrix['median_house_value'].sort_values(ascending=False)"
      ],
      "execution_count": null,
      "outputs": []
    },
    {
      "cell_type": "code",
      "metadata": {
        "id": "8B52zJKSU6F0",
        "colab_type": "code",
        "colab": {}
      },
      "source": [
        "attributes = ['median_house_value', 'median_income', 'total_rooms', 'housing_median_age']\n",
        "scatter_matrix(housing[attributes], figsize=(12,8))"
      ],
      "execution_count": null,
      "outputs": []
    },
    {
      "cell_type": "code",
      "metadata": {
        "id": "LpRNSHUOWgXQ",
        "colab_type": "code",
        "colab": {}
      },
      "source": [
        "housing.plot(kind='scatter', x='median_income', y='median_house_value', alpha=0.1)"
      ],
      "execution_count": null,
      "outputs": []
    },
    {
      "cell_type": "code",
      "metadata": {
        "id": "hlwzo3YpW7gd",
        "colab_type": "code",
        "colab": {}
      },
      "source": [
        "housing['rooms_per_household'] = housing['total_rooms']/housing['households']\n",
        "housing['bedrooms_per_room'] = housing['total_bedrooms']/housing['total_rooms']\n",
        "housing['population_per_household'] = housing['population']/housing['households']"
      ],
      "execution_count": null,
      "outputs": []
    },
    {
      "cell_type": "code",
      "metadata": {
        "id": "W4RotQQndLPu",
        "colab_type": "code",
        "colab": {}
      },
      "source": [
        "corr_matrix = housing.corr()\n",
        "corr_matrix['median_house_value'].sort_values(ascending=False)"
      ],
      "execution_count": null,
      "outputs": []
    },
    {
      "cell_type": "code",
      "metadata": {
        "id": "Nyc0JIyDexMj",
        "colab_type": "code",
        "colab": {}
      },
      "source": [
        "housing = strat_train_set.drop('median_house_value', axis=1)\n",
        "housing_labels = strat_train_set['median_house_value'].copy()"
      ],
      "execution_count": null,
      "outputs": []
    },
    {
      "cell_type": "code",
      "metadata": {
        "id": "HO5IvLFnfmpX",
        "colab_type": "code",
        "colab": {}
      },
      "source": [
        "imputer = SimpleImputer(strategy='median')\n",
        "housing_num = housing.drop('ocean_proximity', axis=1)\n",
        "imputer.fit(housing_num)\n",
        "imputer.statistics_"
      ],
      "execution_count": null,
      "outputs": []
    },
    {
      "cell_type": "code",
      "metadata": {
        "id": "Lr4iwyDHgdQd",
        "colab_type": "code",
        "colab": {}
      },
      "source": [
        "housing_num.median().values"
      ],
      "execution_count": null,
      "outputs": []
    },
    {
      "cell_type": "code",
      "metadata": {
        "id": "kNH_KUHAgiVm",
        "colab_type": "code",
        "colab": {}
      },
      "source": [
        "X = imputer.transform(housing_num)\n",
        "housing_tr = pd.DataFrame(X, columns=housing_num.columns)"
      ],
      "execution_count": null,
      "outputs": []
    },
    {
      "cell_type": "code",
      "metadata": {
        "id": "GcUpcR3-h64h",
        "colab_type": "code",
        "colab": {}
      },
      "source": [
        "housing_cat = housing[['ocean_proximity']]\n",
        "housing_cat.head(10)"
      ],
      "execution_count": null,
      "outputs": []
    },
    {
      "cell_type": "code",
      "metadata": {
        "id": "QxYCInvJgwvY",
        "colab_type": "code",
        "colab": {}
      },
      "source": [
        "ordinal_encoder = OrdinalEncoder()\n",
        "housing_cat_encoded = ordinal_encoder.fit_transform(housing_cat)\n",
        "housing_cat_encoded[:10]"
      ],
      "execution_count": null,
      "outputs": []
    },
    {
      "cell_type": "code",
      "metadata": {
        "id": "pM27XrT1iK_r",
        "colab_type": "code",
        "colab": {}
      },
      "source": [
        "ordinal_encoder.categories_"
      ],
      "execution_count": null,
      "outputs": []
    },
    {
      "cell_type": "code",
      "metadata": {
        "id": "Q2GHpXdMiTZM",
        "colab_type": "code",
        "colab": {}
      },
      "source": [
        "cat_encoder = OneHotEncoder()\n",
        "housing_cat_1hot = cat_encoder.fit_transform(housing_cat)\n",
        "housing_cat_1hot"
      ],
      "execution_count": null,
      "outputs": []
    },
    {
      "cell_type": "code",
      "metadata": {
        "id": "-Abq2ipwi34w",
        "colab_type": "code",
        "colab": {}
      },
      "source": [
        "housing_cat_1hot.toarray()"
      ],
      "execution_count": null,
      "outputs": []
    },
    {
      "cell_type": "code",
      "metadata": {
        "id": "Eh-OZXCJjDTq",
        "colab_type": "code",
        "colab": {}
      },
      "source": [
        "cat_encoder.categories_"
      ],
      "execution_count": null,
      "outputs": []
    },
    {
      "cell_type": "markdown",
      "metadata": {
        "id": "kmlZQfqattAv",
        "colab_type": "text"
      },
      "source": [
        "#Custom Transformers"
      ]
    },
    {
      "cell_type": "code",
      "metadata": {
        "id": "lYzxr13fjOS7",
        "colab_type": "code",
        "colab": {}
      },
      "source": [
        "rooms_ix, bedrooms_ix, population_ix, households_ix = 3,4,5,6"
      ],
      "execution_count": null,
      "outputs": []
    },
    {
      "cell_type": "code",
      "metadata": {
        "id": "flXt0xXFj2UY",
        "colab_type": "code",
        "colab": {}
      },
      "source": [
        "class CombinedAttributesAddr(BaseEstimator, TransformerMixin):\n",
        "  def __init__(self, add_bedrooms_per_room = True):\n",
        "    self.add_bedrooms_per_room = add_bedrooms_per_room\n",
        "\n",
        "  def fit(self, X, y=None): \n",
        "    return self\n",
        "  \n",
        "  def transform(self, X, y=None):\n",
        "    rooms_per_household = X[:, bedrooms_ix] / X[:, households_ix]\n",
        "    population_per_houshold = X[:, population_ix] / X[:, households_ix]\n",
        "    if self.add_bedrooms_per_room:\n",
        "      bedrooms_per_room = X[:, bedrooms_ix] / X[:, rooms_ix]\n",
        "      return np.c_[X, rooms_per_household, population_per_houshold, bedrooms_per_room]\n",
        "    else:\n",
        "      return np.c_[X, rooms_per_household, population_per_houshold]\n",
        "  "
      ],
      "execution_count": null,
      "outputs": []
    },
    {
      "cell_type": "code",
      "metadata": {
        "id": "TF8FjywxkxI_",
        "colab_type": "code",
        "colab": {}
      },
      "source": [
        "attr_adder = CombinedAttributesAddr(add_bedrooms_per_room=False)\n",
        "housing_extra_attribs = attr_adder.transform(housing.values)"
      ],
      "execution_count": null,
      "outputs": []
    },
    {
      "cell_type": "markdown",
      "metadata": {
        "id": "vdI7A1sivN3u",
        "colab_type": "text"
      },
      "source": [
        "#Transformation Pipelines"
      ]
    },
    {
      "cell_type": "code",
      "metadata": {
        "id": "47mMlSX8k7Mw",
        "colab_type": "code",
        "colab": {}
      },
      "source": [
        "num_pipeline = Pipeline([ ('imputer', SimpleImputer(strategy='median')), ('attribs_adder', CombinedAttributesAddr()), ('std_scaler', StandardScaler())])\n",
        "\n",
        "housing_num_tr = num_pipeline.fit_transform(housing_num)"
      ],
      "execution_count": null,
      "outputs": []
    },
    {
      "cell_type": "code",
      "metadata": {
        "id": "uQAeLcr3SKYB",
        "colab_type": "code",
        "colab": {}
      },
      "source": [
        " num_attribs = list(housing_num)\n",
        " cat_attribs = ['ocean_proximity']\n",
        "\n",
        " full_pipeline = ColumnTransformer([('num', num_pipeline, num_attribs),('cat', OneHotEncoder(), cat_attribs)])\n",
        "\n",
        " housing_prepared = full_pipeline.fit_transform(housing)"
      ],
      "execution_count": null,
      "outputs": []
    },
    {
      "cell_type": "markdown",
      "metadata": {
        "id": "SK8480IN0pJH",
        "colab_type": "text"
      },
      "source": [
        "#Training and Evaluating on the Training Set"
      ]
    },
    {
      "cell_type": "code",
      "metadata": {
        "id": "sC95ewNCX07y",
        "colab_type": "code",
        "colab": {}
      },
      "source": [
        "lin_reg = LinearRegression()\n",
        "lin_reg.fit(housing_prepared, housing_labels) # housing_prepared & housing_labels are the test data"
      ],
      "execution_count": null,
      "outputs": []
    },
    {
      "cell_type": "code",
      "metadata": {
        "id": "7r2rNZn1dR8u",
        "colab_type": "code",
        "colab": {}
      },
      "source": [
        "some_data = housing.iloc[:5]\n",
        "some_labels = housing_labels.iloc[:5]\n",
        "some_data_prepared = full_pipeline.transform(some_data)\n",
        "\n",
        "print('Predictions', lin_reg.predict(some_data_prepared))\n",
        "print('Labels:', list(some_labels))"
      ],
      "execution_count": null,
      "outputs": []
    },
    {
      "cell_type": "code",
      "metadata": {
        "id": "jdKmTuzTdy1a",
        "colab_type": "code",
        "colab": {}
      },
      "source": [
        "housing_predictions = lin_reg.predict(housing_prepared)\n",
        "lin_mse = mean_squared_error(housing_labels, housing_predictions)\n",
        "lin_rmse = np.sqrt(lin_mse)\n",
        "lin_rmse"
      ],
      "execution_count": null,
      "outputs": []
    },
    {
      "cell_type": "code",
      "metadata": {
        "id": "KQxcwdjAeZkv",
        "colab_type": "code",
        "colab": {}
      },
      "source": [
        "tree_reg = DecisionTreeRegressor()\n",
        "tree_reg.fit(housing_prepared, housing_labels)\n",
        "\n",
        "housing_predictions = tree_reg.predict(housing_prepared)\n",
        "tree_mse = mean_squared_error(housing_labels, housing_predictions)\n",
        "tree_rmse = np.sqrt(tree_mse)\n",
        "tree_rmse"
      ],
      "execution_count": null,
      "outputs": []
    },
    {
      "cell_type": "markdown",
      "metadata": {
        "id": "coIaFhmh2fTz",
        "colab_type": "text"
      },
      "source": [
        "#Better Evaluation Using Cross-Validation"
      ]
    },
    {
      "cell_type": "code",
      "metadata": {
        "id": "HRPYj49mfKds",
        "colab_type": "code",
        "colab": {}
      },
      "source": [
        "scores = cross_val_score(tree_reg, housing_prepared, housing_labels, scoring='neg_mean_squared_error', cv=10)\n",
        "tree_rmse_scores = np.sqrt(-scores)"
      ],
      "execution_count": null,
      "outputs": []
    },
    {
      "cell_type": "code",
      "metadata": {
        "id": "KXTSgt61w68s",
        "colab_type": "code",
        "colab": {}
      },
      "source": [
        "def display_scores(scores):\n",
        "  print('Scores: ', scores)\n",
        "  print('Mean', scores.mean())\n",
        "  print('Standard Deviation', scores.std())\n",
        "display_scores(tree_rmse_scores)"
      ],
      "execution_count": null,
      "outputs": []
    },
    {
      "cell_type": "code",
      "metadata": {
        "id": "IE8_E1fAxanp",
        "colab_type": "code",
        "colab": {}
      },
      "source": [
        "lin_scores = cross_val_score(lin_reg, housing_prepared, housing_labels, scoring='neg_mean_squared_error', cv=10)\n",
        "lin_rmse_scores = np.sqrt(-lin_scores)\n",
        "display_scores(lin_rmse_scores)"
      ],
      "execution_count": null,
      "outputs": []
    },
    {
      "cell_type": "markdown",
      "metadata": {
        "id": "4CUf8afN5Yos",
        "colab_type": "text"
      },
      "source": [
        "#Fine-Tune Your Model"
      ]
    },
    {
      "cell_type": "markdown",
      "metadata": {
        "id": "EEYwQxRh5i_l",
        "colab_type": "text"
      },
      "source": [
        "#Grid Search\n"
      ]
    },
    {
      "cell_type": "code",
      "metadata": {
        "id": "3UXfmGFJ1u0c",
        "colab_type": "code",
        "colab": {}
      },
      "source": [
        "from sklearn.model_selection import GridSearchCV\n",
        "from sklearn.ensemble import RandomForestRegressor\n",
        "\n",
        "param_grid = [ {'n_estimators': [3, 10, 30], 'max_features': [2, 4, 6, 8]}, {'bootstrap': [False], 'n_estimators': [3, 10], 'max_features': [2, 3, 4]}]\n",
        "forest_reg = RandomForestRegressor()\n",
        "grid_search = GridSearchCV(forest_reg, param_grid, cv=5, scoring='neg_mean_squared_error', return_train_score=True)\n",
        "grid_search.fit(housing_prepared, housing_labels)"
      ],
      "execution_count": null,
      "outputs": []
    },
    {
      "cell_type": "code",
      "metadata": {
        "id": "a_h6KNXu4yIq",
        "colab_type": "code",
        "colab": {}
      },
      "source": [
        "grid_search.best_params_"
      ],
      "execution_count": null,
      "outputs": []
    },
    {
      "cell_type": "code",
      "metadata": {
        "id": "BQvXCg5c6st6",
        "colab_type": "code",
        "colab": {}
      },
      "source": [
        "grid_search.best_estimator_"
      ],
      "execution_count": null,
      "outputs": []
    },
    {
      "cell_type": "code",
      "metadata": {
        "id": "Gow-IJAY6zLZ",
        "colab_type": "code",
        "colab": {}
      },
      "source": [
        "cvres = grid_search.cv_results_\n",
        "for mean_score, params in zip(cvres[\"mean_test_score\"], cvres[\"params\"]):\n",
        "  print(np.sqrt(-mean_score), params)"
      ],
      "execution_count": null,
      "outputs": []
    },
    {
      "cell_type": "markdown",
      "metadata": {
        "id": "yNrcbyqP7SCo",
        "colab_type": "text"
      },
      "source": [
        "#Analyze the Best Models and Their Errors"
      ]
    },
    {
      "cell_type": "code",
      "metadata": {
        "id": "k-fi_Xmc7DVE",
        "colab_type": "code",
        "colab": {}
      },
      "source": [
        "feature_importances = grid_search.best_estimator_.feature_importances_\n",
        "feature_importances"
      ],
      "execution_count": null,
      "outputs": []
    },
    {
      "cell_type": "code",
      "metadata": {
        "id": "IbiocuNe8QZb",
        "colab_type": "code",
        "colab": {}
      },
      "source": [
        "extra_attribs = ['rooms_per_hhold', 'pop_per_hhold', 'bedrooms_per_room']\n",
        "cat_encoder = full_pipeline.named_transformers_['cat']\n",
        "cat_one_hot_attribs = list(cat_encoder.categories[0])\n",
        "attributes = num_attribs + extra_attribs + cat_one_hot_attribs\n",
        "sorted(zip(feature_importances, attributes), reverse=True)"
      ],
      "execution_count": null,
      "outputs": []
    },
    {
      "cell_type": "markdown",
      "metadata": {
        "id": "YjuBPAam8-LC",
        "colab_type": "text"
      },
      "source": [
        "#Evaluate Your System on the Test Set"
      ]
    },
    {
      "cell_type": "code",
      "metadata": {
        "id": "VdZ9U6nX8c5C",
        "colab_type": "code",
        "colab": {}
      },
      "source": [
        "final_model = grid_search.best_estimator_\n",
        "\n",
        "X_test = strat_test_set.drop('median_house_value', axis=1)\n",
        "y_test = strat_test_set['median_house_value'].copy()\n",
        "\n",
        "X_test_prepared = full_pipeline.transform(X_test)\n",
        "\n",
        "final_predictions = final_model.predict(X_test_prepared)\n",
        "\n",
        "final_mse = mean_squared_error(y_test, final_predictions)\n",
        "final_rmse = np.sqrt(final_mse)\n",
        "final_rmse"
      ],
      "execution_count": null,
      "outputs": []
    },
    {
      "cell_type": "markdown",
      "metadata": {
        "id": "D-zP58uJKlmx",
        "colab_type": "text"
      },
      "source": [
        "#Chapter 2 - Exercises\n"
      ]
    },
    {
      "cell_type": "markdown",
      "metadata": {
        "id": "mAAlHuCnyTZ8",
        "colab_type": "text"
      },
      "source": [
        "##Problem 1"
      ]
    },
    {
      "cell_type": "code",
      "metadata": {
        "id": "7JkEtZD-9PkR",
        "colab_type": "code",
        "colab": {}
      },
      "source": [
        "from sklearn.svm import SVR\n",
        "\n",
        "\n",
        "# Support Vector Machine with default 'kernel'\n",
        "sv_reg = SVR()\n",
        "sv_reg.fit(housing_prepared, housing_labels)\n",
        "\n",
        "housing_predictions = sv_reg.predict(housing_prepared)\n",
        "sv_mse = mean_squared_error(housing_labels, housing_predictions)\n",
        "sv_rmse = np.sqrt(sv_mse)\n",
        "sv_rmse\n",
        "\n"
      ],
      "execution_count": null,
      "outputs": []
    },
    {
      "cell_type": "code",
      "metadata": {
        "id": "nWUeNjG4-yil",
        "colab_type": "code",
        "colab": {}
      },
      "source": [
        "# Support Vector Machine with  'kernel = linear'\n",
        "sv_reg = SVR(kernel='linear')\n",
        "sv_reg.fit(housing_prepared, housing_labels)\n",
        "\n",
        "housing_predictions = sv_reg.predict(housing_prepared)\n",
        "sv_mse = mean_squared_error(housing_labels, housing_predictions)\n",
        "sv_rmse = np.sqrt(sv_mse)\n",
        "sv_rmse\n"
      ],
      "execution_count": null,
      "outputs": []
    },
    {
      "cell_type": "code",
      "metadata": {
        "id": "rQTOaE_EMWwu",
        "colab_type": "code",
        "colab": {}
      },
      "source": [
        "# Support Vector Machine with  'kernel = rbf' (I think this is the default)\n",
        "sv_reg = SVR(kernel='rbf')\n",
        "sv_reg.fit(housing_prepared, housing_labels)\n",
        "\n",
        "housing_predictions = sv_reg.predict(housing_prepared) # I'm confused to why we're using the training data here rather than the test (some_data_prepared)\n",
        "sv_mse = mean_squared_error(housing_labels, housing_predictions)\n",
        "sv_rmse = np.sqrt(sv_mse)\n",
        "sv_rmse\n"
      ],
      "execution_count": null,
      "outputs": []
    },
    {
      "cell_type": "code",
      "metadata": {
        "id": "zo1FYwrpMdKu",
        "colab_type": "code",
        "colab": {}
      },
      "source": [
        "#from sklearn import metrics\n",
        "\n",
        "#print('Acuracy: ', metrics.accuracy_score(some_data_prepared, )) \n",
        "\n",
        "# I was trying to use this metrics class, but I'm not sure what to pass into 'accuracy_score'. Is it test data or train data? I would asume test data."
      ],
      "execution_count": null,
      "outputs": []
    },
    {
      "cell_type": "markdown",
      "metadata": {
        "id": "j4YODECk0xQF",
        "colab_type": "text"
      },
      "source": [
        "\n",
        "##Problem 2\n",
        "\n",
        "note: I thought the code below wasn't running properly, but it turns out that it takes over an hour to run."
      ]
    },
    {
      "cell_type": "code",
      "metadata": {
        "id": "s6NrgT3uPLjc",
        "colab_type": "code",
        "colab": {
          "base_uri": "https://localhost:8080/",
          "height": 1000
        },
        "outputId": "3f5af42e-7619-4b75-d341-7b7f27087ca6"
      },
      "source": [
        "from sklearn.model_selection import RandomizedSearchCV\n",
        "from scipy.stats import expon, reciprocal\n",
        "\n",
        "\n",
        "param_grid = [ {'n_estimators': [3, 10, 30], 'max_features': [2, 4, 6, 8]}, {'bootstrap': [False], 'n_estimators': [3, 10], 'max_features': [2, 3, 4]}]\n",
        "#param_dist = {'average': [True, False], 'l1_ratio': stats.uniform(0, 1), 'alpha': loguniform(1e-4, 1e0)} # I found this online for the 'param_distributions' parameter in RandomizedSearchCV\n",
        "param_dist = { 'kernel':['linear','rbf'], 'C': reciprocal(20, 200000), 'gamma': expon(scale=1.0) } # I had to get this from the solutions online\n",
        "sv_reg = SVR()\n",
        "rand_search = RandomizedSearchCV(sv_reg, param_distributions=param_dist, n_iter=50, cv=5, scoring='neg_mean_squared_error', verbose=2, random_state=42) # This line was giving me some trouble. I wasn't sure what to pass in as parameters.\n",
        "rand_search.fit(housing_prepared, housing_labels)"
      ],
      "execution_count": null,
      "outputs": [
        {
          "output_type": "stream",
          "text": [
            "Fitting 5 folds for each of 50 candidates, totalling 250 fits\n",
            "[CV] C=629.782329591372, gamma=3.010121430917521, kernel=linear ......\n"
          ],
          "name": "stdout"
        },
        {
          "output_type": "stream",
          "text": [
            "[Parallel(n_jobs=1)]: Using backend SequentialBackend with 1 concurrent workers.\n"
          ],
          "name": "stderr"
        },
        {
          "output_type": "stream",
          "text": [
            "[CV]  C=629.782329591372, gamma=3.010121430917521, kernel=linear, total=   9.7s\n",
            "[CV] C=629.782329591372, gamma=3.010121430917521, kernel=linear ......\n"
          ],
          "name": "stdout"
        },
        {
          "output_type": "stream",
          "text": [
            "[Parallel(n_jobs=1)]: Done   1 out of   1 | elapsed:    9.7s remaining:    0.0s\n"
          ],
          "name": "stderr"
        },
        {
          "output_type": "stream",
          "text": [
            "[CV]  C=629.782329591372, gamma=3.010121430917521, kernel=linear, total=  10.0s\n",
            "[CV] C=629.782329591372, gamma=3.010121430917521, kernel=linear ......\n",
            "[CV]  C=629.782329591372, gamma=3.010121430917521, kernel=linear, total=  10.0s\n",
            "[CV] C=629.782329591372, gamma=3.010121430917521, kernel=linear ......\n",
            "[CV]  C=629.782329591372, gamma=3.010121430917521, kernel=linear, total=   9.9s\n",
            "[CV] C=629.782329591372, gamma=3.010121430917521, kernel=linear ......\n",
            "[CV]  C=629.782329591372, gamma=3.010121430917521, kernel=linear, total=   9.8s\n",
            "[CV] C=26290.206464300216, gamma=0.9084469696321253, kernel=rbf ......\n",
            "[CV]  C=26290.206464300216, gamma=0.9084469696321253, kernel=rbf, total=  19.2s\n",
            "[CV] C=26290.206464300216, gamma=0.9084469696321253, kernel=rbf ......\n",
            "[CV]  C=26290.206464300216, gamma=0.9084469696321253, kernel=rbf, total=  20.1s\n",
            "[CV] C=26290.206464300216, gamma=0.9084469696321253, kernel=rbf ......\n",
            "[CV]  C=26290.206464300216, gamma=0.9084469696321253, kernel=rbf, total=  20.0s\n",
            "[CV] C=26290.206464300216, gamma=0.9084469696321253, kernel=rbf ......\n",
            "[CV]  C=26290.206464300216, gamma=0.9084469696321253, kernel=rbf, total=  19.4s\n",
            "[CV] C=26290.206464300216, gamma=0.9084469696321253, kernel=rbf ......\n",
            "[CV]  C=26290.206464300216, gamma=0.9084469696321253, kernel=rbf, total=  20.7s\n",
            "[CV] C=84.14107900575871, gamma=0.059838768608680676, kernel=rbf .....\n",
            "[CV]  C=84.14107900575871, gamma=0.059838768608680676, kernel=rbf, total=  16.6s\n",
            "[CV] C=84.14107900575871, gamma=0.059838768608680676, kernel=rbf .....\n",
            "[CV]  C=84.14107900575871, gamma=0.059838768608680676, kernel=rbf, total=  16.6s\n",
            "[CV] C=84.14107900575871, gamma=0.059838768608680676, kernel=rbf .....\n",
            "[CV]  C=84.14107900575871, gamma=0.059838768608680676, kernel=rbf, total=  16.6s\n",
            "[CV] C=84.14107900575871, gamma=0.059838768608680676, kernel=rbf .....\n",
            "[CV]  C=84.14107900575871, gamma=0.059838768608680676, kernel=rbf, total=  16.5s\n",
            "[CV] C=84.14107900575871, gamma=0.059838768608680676, kernel=rbf .....\n",
            "[CV]  C=84.14107900575871, gamma=0.059838768608680676, kernel=rbf, total=  16.6s\n",
            "[CV] C=432.37884813148855, gamma=0.15416196746656105, kernel=linear ..\n",
            "[CV]  C=432.37884813148855, gamma=0.15416196746656105, kernel=linear, total=   9.7s\n",
            "[CV] C=432.37884813148855, gamma=0.15416196746656105, kernel=linear ..\n",
            "[CV]  C=432.37884813148855, gamma=0.15416196746656105, kernel=linear, total=   9.8s\n",
            "[CV] C=432.37884813148855, gamma=0.15416196746656105, kernel=linear ..\n",
            "[CV]  C=432.37884813148855, gamma=0.15416196746656105, kernel=linear, total=  10.0s\n",
            "[CV] C=432.37884813148855, gamma=0.15416196746656105, kernel=linear ..\n",
            "[CV]  C=432.37884813148855, gamma=0.15416196746656105, kernel=linear, total=   9.9s\n",
            "[CV] C=432.37884813148855, gamma=0.15416196746656105, kernel=linear ..\n",
            "[CV]  C=432.37884813148855, gamma=0.15416196746656105, kernel=linear, total=   9.8s\n",
            "[CV] C=24.17508294611391, gamma=3.503557475158312, kernel=rbf ........\n",
            "[CV]  C=24.17508294611391, gamma=3.503557475158312, kernel=rbf, total=  16.5s\n",
            "[CV] C=24.17508294611391, gamma=3.503557475158312, kernel=rbf ........\n",
            "[CV]  C=24.17508294611391, gamma=3.503557475158312, kernel=rbf, total=  16.6s\n",
            "[CV] C=24.17508294611391, gamma=3.503557475158312, kernel=rbf ........\n",
            "[CV]  C=24.17508294611391, gamma=3.503557475158312, kernel=rbf, total=  16.8s\n",
            "[CV] C=24.17508294611391, gamma=3.503557475158312, kernel=rbf ........\n",
            "[CV]  C=24.17508294611391, gamma=3.503557475158312, kernel=rbf, total=  16.9s\n",
            "[CV] C=24.17508294611391, gamma=3.503557475158312, kernel=rbf ........\n",
            "[CV]  C=24.17508294611391, gamma=3.503557475158312, kernel=rbf, total=  16.6s\n",
            "[CV] C=113564.03940586245, gamma=0.0007790692366582295, kernel=rbf ...\n",
            "[CV]  C=113564.03940586245, gamma=0.0007790692366582295, kernel=rbf, total=  15.9s\n",
            "[CV] C=113564.03940586245, gamma=0.0007790692366582295, kernel=rbf ...\n",
            "[CV]  C=113564.03940586245, gamma=0.0007790692366582295, kernel=rbf, total=  16.1s\n",
            "[CV] C=113564.03940586245, gamma=0.0007790692366582295, kernel=rbf ...\n",
            "[CV]  C=113564.03940586245, gamma=0.0007790692366582295, kernel=rbf, total=  16.1s\n",
            "[CV] C=113564.03940586245, gamma=0.0007790692366582295, kernel=rbf ...\n",
            "[CV]  C=113564.03940586245, gamma=0.0007790692366582295, kernel=rbf, total=  16.0s\n",
            "[CV] C=113564.03940586245, gamma=0.0007790692366582295, kernel=rbf ...\n",
            "[CV]  C=113564.03940586245, gamma=0.0007790692366582295, kernel=rbf, total=  16.2s\n",
            "[CV] C=108.30488238805073, gamma=0.3627537294604771, kernel=rbf ......\n",
            "[CV]  C=108.30488238805073, gamma=0.3627537294604771, kernel=rbf, total=  16.0s\n",
            "[CV] C=108.30488238805073, gamma=0.3627537294604771, kernel=rbf ......\n",
            "[CV]  C=108.30488238805073, gamma=0.3627537294604771, kernel=rbf, total=  16.0s\n",
            "[CV] C=108.30488238805073, gamma=0.3627537294604771, kernel=rbf ......\n",
            "[CV]  C=108.30488238805073, gamma=0.3627537294604771, kernel=rbf, total=  16.0s\n",
            "[CV] C=108.30488238805073, gamma=0.3627537294604771, kernel=rbf ......\n",
            "[CV]  C=108.30488238805073, gamma=0.3627537294604771, kernel=rbf, total=  16.0s\n",
            "[CV] C=108.30488238805073, gamma=0.3627537294604771, kernel=rbf ......\n",
            "[CV]  C=108.30488238805073, gamma=0.3627537294604771, kernel=rbf, total=  16.0s\n",
            "[CV] C=21.344953672647435, gamma=0.023332523598323388, kernel=linear .\n",
            "[CV]  C=21.344953672647435, gamma=0.023332523598323388, kernel=linear, total=   9.9s\n",
            "[CV] C=21.344953672647435, gamma=0.023332523598323388, kernel=linear .\n",
            "[CV]  C=21.344953672647435, gamma=0.023332523598323388, kernel=linear, total=   9.8s\n",
            "[CV] C=21.344953672647435, gamma=0.023332523598323388, kernel=linear .\n",
            "[CV]  C=21.344953672647435, gamma=0.023332523598323388, kernel=linear, total=   9.7s\n",
            "[CV] C=21.344953672647435, gamma=0.023332523598323388, kernel=linear .\n",
            "[CV]  C=21.344953672647435, gamma=0.023332523598323388, kernel=linear, total=   9.7s\n",
            "[CV] C=21.344953672647435, gamma=0.023332523598323388, kernel=linear .\n",
            "[CV]  C=21.344953672647435, gamma=0.023332523598323388, kernel=linear, total=   9.8s\n",
            "[CV] C=5603.270317432516, gamma=0.15023452872733867, kernel=rbf ......\n",
            "[CV]  C=5603.270317432516, gamma=0.15023452872733867, kernel=rbf, total=  15.6s\n",
            "[CV] C=5603.270317432516, gamma=0.15023452872733867, kernel=rbf ......\n",
            "[CV]  C=5603.270317432516, gamma=0.15023452872733867, kernel=rbf, total=  15.6s\n",
            "[CV] C=5603.270317432516, gamma=0.15023452872733867, kernel=rbf ......\n",
            "[CV]  C=5603.270317432516, gamma=0.15023452872733867, kernel=rbf, total=  15.6s\n",
            "[CV] C=5603.270317432516, gamma=0.15023452872733867, kernel=rbf ......\n",
            "[CV]  C=5603.270317432516, gamma=0.15023452872733867, kernel=rbf, total=  15.6s\n",
            "[CV] C=5603.270317432516, gamma=0.15023452872733867, kernel=rbf ......\n",
            "[CV]  C=5603.270317432516, gamma=0.15023452872733867, kernel=rbf, total=  15.7s\n",
            "[CV] C=157055.10989448498, gamma=0.26497040005002437, kernel=rbf .....\n",
            "[CV]  C=157055.10989448498, gamma=0.26497040005002437, kernel=rbf, total=  42.1s\n",
            "[CV] C=157055.10989448498, gamma=0.26497040005002437, kernel=rbf .....\n",
            "[CV]  C=157055.10989448498, gamma=0.26497040005002437, kernel=rbf, total=  45.8s\n",
            "[CV] C=157055.10989448498, gamma=0.26497040005002437, kernel=rbf .....\n",
            "[CV]  C=157055.10989448498, gamma=0.26497040005002437, kernel=rbf, total=  45.2s\n",
            "[CV] C=157055.10989448498, gamma=0.26497040005002437, kernel=rbf .....\n",
            "[CV]  C=157055.10989448498, gamma=0.26497040005002437, kernel=rbf, total=  41.2s\n",
            "[CV] C=157055.10989448498, gamma=0.26497040005002437, kernel=rbf .....\n",
            "[CV]  C=157055.10989448498, gamma=0.26497040005002437, kernel=rbf, total=  40.8s\n",
            "[CV] C=27652.464358739708, gamma=0.2227358621286903, kernel=linear ...\n",
            "[CV]  C=27652.464358739708, gamma=0.2227358621286903, kernel=linear, total=  20.3s\n",
            "[CV] C=27652.464358739708, gamma=0.2227358621286903, kernel=linear ...\n",
            "[CV]  C=27652.464358739708, gamma=0.2227358621286903, kernel=linear, total=  20.7s\n",
            "[CV] C=27652.464358739708, gamma=0.2227358621286903, kernel=linear ...\n",
            "[CV]  C=27652.464358739708, gamma=0.2227358621286903, kernel=linear, total=  21.8s\n",
            "[CV] C=27652.464358739708, gamma=0.2227358621286903, kernel=linear ...\n",
            "[CV]  C=27652.464358739708, gamma=0.2227358621286903, kernel=linear, total=  22.8s\n",
            "[CV] C=27652.464358739708, gamma=0.2227358621286903, kernel=linear ...\n",
            "[CV]  C=27652.464358739708, gamma=0.2227358621286903, kernel=linear, total=  20.5s\n",
            "[CV] C=171377.39570378003, gamma=0.628789100540856, kernel=linear ....\n",
            "[CV]  C=171377.39570378003, gamma=0.628789100540856, kernel=linear, total= 1.3min\n",
            "[CV] C=171377.39570378003, gamma=0.628789100540856, kernel=linear ....\n",
            "[CV]  C=171377.39570378003, gamma=0.628789100540856, kernel=linear, total= 1.2min\n",
            "[CV] C=171377.39570378003, gamma=0.628789100540856, kernel=linear ....\n",
            "[CV]  C=171377.39570378003, gamma=0.628789100540856, kernel=linear, total= 1.2min\n",
            "[CV] C=171377.39570378003, gamma=0.628789100540856, kernel=linear ....\n",
            "[CV]  C=171377.39570378003, gamma=0.628789100540856, kernel=linear, total= 1.3min\n",
            "[CV] C=171377.39570378003, gamma=0.628789100540856, kernel=linear ....\n",
            "[CV]  C=171377.39570378003, gamma=0.628789100540856, kernel=linear, total= 1.2min\n",
            "[CV] C=5385.293820172355, gamma=0.18696125197741642, kernel=linear ...\n",
            "[CV]  C=5385.293820172355, gamma=0.18696125197741642, kernel=linear, total=  12.2s\n",
            "[CV] C=5385.293820172355, gamma=0.18696125197741642, kernel=linear ...\n",
            "[CV]  C=5385.293820172355, gamma=0.18696125197741642, kernel=linear, total=  12.4s\n",
            "[CV] C=5385.293820172355, gamma=0.18696125197741642, kernel=linear ...\n",
            "[CV]  C=5385.293820172355, gamma=0.18696125197741642, kernel=linear, total=  12.5s\n",
            "[CV] C=5385.293820172355, gamma=0.18696125197741642, kernel=linear ...\n",
            "[CV]  C=5385.293820172355, gamma=0.18696125197741642, kernel=linear, total=  12.0s\n",
            "[CV] C=5385.293820172355, gamma=0.18696125197741642, kernel=linear ...\n",
            "[CV]  C=5385.293820172355, gamma=0.18696125197741642, kernel=linear, total=  12.0s\n",
            "[CV] C=22.59903216621323, gamma=2.850796878935603, kernel=rbf ........\n",
            "[CV]  C=22.59903216621323, gamma=2.850796878935603, kernel=rbf, total=  16.1s\n",
            "[CV] C=22.59903216621323, gamma=2.850796878935603, kernel=rbf ........\n",
            "[CV]  C=22.59903216621323, gamma=2.850796878935603, kernel=rbf, total=  16.0s\n",
            "[CV] C=22.59903216621323, gamma=2.850796878935603, kernel=rbf ........\n",
            "[CV]  C=22.59903216621323, gamma=2.850796878935603, kernel=rbf, total=  16.1s\n",
            "[CV] C=22.59903216621323, gamma=2.850796878935603, kernel=rbf ........\n",
            "[CV]  C=22.59903216621323, gamma=2.850796878935603, kernel=rbf, total=  16.1s\n",
            "[CV] C=22.59903216621323, gamma=2.850796878935603, kernel=rbf ........\n",
            "[CV]  C=22.59903216621323, gamma=2.850796878935603, kernel=rbf, total=  16.1s\n",
            "[CV] C=34246.75194632794, gamma=0.3632878599687583, kernel=linear ....\n",
            "[CV]  C=34246.75194632794, gamma=0.3632878599687583, kernel=linear, total=  23.0s\n",
            "[CV] C=34246.75194632794, gamma=0.3632878599687583, kernel=linear ....\n",
            "[CV]  C=34246.75194632794, gamma=0.3632878599687583, kernel=linear, total=  23.7s\n",
            "[CV] C=34246.75194632794, gamma=0.3632878599687583, kernel=linear ....\n",
            "[CV]  C=34246.75194632794, gamma=0.3632878599687583, kernel=linear, total=  25.2s\n",
            "[CV] C=34246.75194632794, gamma=0.3632878599687583, kernel=linear ....\n",
            "[CV]  C=34246.75194632794, gamma=0.3632878599687583, kernel=linear, total=  23.9s\n",
            "[CV] C=34246.75194632794, gamma=0.3632878599687583, kernel=linear ....\n",
            "[CV]  C=34246.75194632794, gamma=0.3632878599687583, kernel=linear, total=  23.2s\n",
            "[CV] C=167.7278956080511, gamma=0.2757870542258224, kernel=rbf .......\n",
            "[CV]  C=167.7278956080511, gamma=0.2757870542258224, kernel=rbf, total=  15.9s\n",
            "[CV] C=167.7278956080511, gamma=0.2757870542258224, kernel=rbf .......\n",
            "[CV]  C=167.7278956080511, gamma=0.2757870542258224, kernel=rbf, total=  15.9s\n",
            "[CV] C=167.7278956080511, gamma=0.2757870542258224, kernel=rbf .......\n",
            "[CV]  C=167.7278956080511, gamma=0.2757870542258224, kernel=rbf, total=  15.9s\n",
            "[CV] C=167.7278956080511, gamma=0.2757870542258224, kernel=rbf .......\n",
            "[CV]  C=167.7278956080511, gamma=0.2757870542258224, kernel=rbf, total=  16.0s\n",
            "[CV] C=167.7278956080511, gamma=0.2757870542258224, kernel=rbf .......\n",
            "[CV]  C=167.7278956080511, gamma=0.2757870542258224, kernel=rbf, total=  16.0s\n",
            "[CV] C=61.54360542501371, gamma=0.6835472281341501, kernel=linear ....\n",
            "[CV]  C=61.54360542501371, gamma=0.6835472281341501, kernel=linear, total=   9.5s\n",
            "[CV] C=61.54360542501371, gamma=0.6835472281341501, kernel=linear ....\n",
            "[CV]  C=61.54360542501371, gamma=0.6835472281341501, kernel=linear, total=   9.5s\n",
            "[CV] C=61.54360542501371, gamma=0.6835472281341501, kernel=linear ....\n",
            "[CV]  C=61.54360542501371, gamma=0.6835472281341501, kernel=linear, total=   9.5s\n",
            "[CV] C=61.54360542501371, gamma=0.6835472281341501, kernel=linear ....\n",
            "[CV]  C=61.54360542501371, gamma=0.6835472281341501, kernel=linear, total=   9.7s\n",
            "[CV] C=61.54360542501371, gamma=0.6835472281341501, kernel=linear ....\n",
            "[CV]  C=61.54360542501371, gamma=0.6835472281341501, kernel=linear, total=   9.5s\n",
            "[CV] C=98.73897389920914, gamma=0.4960365360493639, kernel=rbf .......\n",
            "[CV]  C=98.73897389920914, gamma=0.4960365360493639, kernel=rbf, total=  15.8s\n",
            "[CV] C=98.73897389920914, gamma=0.4960365360493639, kernel=rbf .......\n",
            "[CV]  C=98.73897389920914, gamma=0.4960365360493639, kernel=rbf, total=  15.8s\n",
            "[CV] C=98.73897389920914, gamma=0.4960365360493639, kernel=rbf .......\n",
            "[CV]  C=98.73897389920914, gamma=0.4960365360493639, kernel=rbf, total=  15.8s\n",
            "[CV] C=98.73897389920914, gamma=0.4960365360493639, kernel=rbf .......\n",
            "[CV]  C=98.73897389920914, gamma=0.4960365360493639, kernel=rbf, total=  15.8s\n",
            "[CV] C=98.73897389920914, gamma=0.4960365360493639, kernel=rbf .......\n",
            "[CV]  C=98.73897389920914, gamma=0.4960365360493639, kernel=rbf, total=  15.8s\n",
            "[CV] C=8935.505635947808, gamma=0.37354658165762367, kernel=rbf ......\n",
            "[CV]  C=8935.505635947808, gamma=0.37354658165762367, kernel=rbf, total=  15.7s\n",
            "[CV] C=8935.505635947808, gamma=0.37354658165762367, kernel=rbf ......\n",
            "[CV]  C=8935.505635947808, gamma=0.37354658165762367, kernel=rbf, total=  15.7s\n",
            "[CV] C=8935.505635947808, gamma=0.37354658165762367, kernel=rbf ......\n",
            "[CV]  C=8935.505635947808, gamma=0.37354658165762367, kernel=rbf, total=  15.7s\n",
            "[CV] C=8935.505635947808, gamma=0.37354658165762367, kernel=rbf ......\n",
            "[CV]  C=8935.505635947808, gamma=0.37354658165762367, kernel=rbf, total=  15.8s\n",
            "[CV] C=8935.505635947808, gamma=0.37354658165762367, kernel=rbf ......\n",
            "[CV]  C=8935.505635947808, gamma=0.37354658165762367, kernel=rbf, total=  15.7s\n",
            "[CV] C=135.76775824842434, gamma=0.838636245624803, kernel=linear ....\n",
            "[CV]  C=135.76775824842434, gamma=0.838636245624803, kernel=linear, total=   9.7s\n",
            "[CV] C=135.76775824842434, gamma=0.838636245624803, kernel=linear ....\n",
            "[CV]  C=135.76775824842434, gamma=0.838636245624803, kernel=linear, total=   9.6s\n",
            "[CV] C=135.76775824842434, gamma=0.838636245624803, kernel=linear ....\n",
            "[CV]  C=135.76775824842434, gamma=0.838636245624803, kernel=linear, total=   9.6s\n",
            "[CV] C=135.76775824842434, gamma=0.838636245624803, kernel=linear ....\n",
            "[CV]  C=135.76775824842434, gamma=0.838636245624803, kernel=linear, total=   9.8s\n",
            "[CV] C=135.76775824842434, gamma=0.838636245624803, kernel=linear ....\n",
            "[CV]  C=135.76775824842434, gamma=0.838636245624803, kernel=linear, total=   9.7s\n",
            "[CV] C=151136.20282548846, gamma=1.4922453771381408, kernel=rbf ......\n",
            "[CV]  C=151136.20282548846, gamma=1.4922453771381408, kernel=rbf, total= 2.9min\n",
            "[CV] C=151136.20282548846, gamma=1.4922453771381408, kernel=rbf ......\n",
            "[CV]  C=151136.20282548846, gamma=1.4922453771381408, kernel=rbf, total= 2.8min\n",
            "[CV] C=151136.20282548846, gamma=1.4922453771381408, kernel=rbf ......\n",
            "[CV]  C=151136.20282548846, gamma=1.4922453771381408, kernel=rbf, total= 3.6min\n",
            "[CV] C=151136.20282548846, gamma=1.4922453771381408, kernel=rbf ......\n"
          ],
          "name": "stdout"
        }
      ]
    },
    {
      "cell_type": "code",
      "metadata": {
        "id": "LrsP8743QXDK",
        "colab_type": "code",
        "colab": {}
      },
      "source": [
        ""
      ],
      "execution_count": null,
      "outputs": []
    },
    {
      "cell_type": "markdown",
      "metadata": {
        "id": "lNmdFqFb8Cjc",
        "colab_type": "text"
      },
      "source": [
        "#### Note: For the remaining questions, I really didn't know where to start, so I had to refer to the online solutions. I get the big picture of what we're doing, but I'm not familiar enough with the details and tools from sklearn to accomplish the remaining questions by myself. However, after reviewing the solutions, I do feel like I have a better understanding of what sklearn and scipy has to offer, as well as the broader machine learning concepts"
      ]
    },
    {
      "cell_type": "markdown",
      "metadata": {
        "id": "ATuwWY746E4N",
        "colab_type": "text"
      },
      "source": [
        "##Problem 3"
      ]
    },
    {
      "cell_type": "code",
      "metadata": {
        "id": "Au__b9yP6GZu",
        "colab_type": "code",
        "colab": {}
      },
      "source": [
        "#feature_importances <- Defined in block 156\n",
        "\n",
        "from sklearn.base import BaseEstimator, TransformerMixin\n",
        "\n",
        "def indices_of_top_k(arr, k):\n",
        "    return np.sort(np.argpartition(np.array(arr), -k)[-k:])\n",
        "\n",
        "class TopFeatureSelector(BaseEstimator, TransformerMixin):\n",
        "    def __init__(self, feature_importances, k):\n",
        "        self.feature_importances = feature_importances\n",
        "        self.k = k\n",
        "    def fit(self, X, y=None):\n",
        "        self.feature_indices_ = indices_of_top_k(self.feature_importances, self.k)\n",
        "        return self\n",
        "    def transform(self, X):\n",
        "        return X[:, self.feature_indices_]\n",
        "\n",
        "top_features = indices_of_top_k(feature_importances, 5)"
      ],
      "execution_count": null,
      "outputs": []
    },
    {
      "cell_type": "code",
      "metadata": {
        "id": "TffmyujV9W7R",
        "colab_type": "code",
        "colab": {}
      },
      "source": [
        "pipeline = Pipeline([('preparation', full_pipeline), ('feature_selection', TopFeatureSelector(feature_importances, k))])\n",
        "housing_prep = pipeline.fit_transform(housing)"
      ],
      "execution_count": null,
      "outputs": []
    },
    {
      "cell_type": "markdown",
      "metadata": {
        "id": "6FD623MI_n9I",
        "colab_type": "text"
      },
      "source": [
        "##Problem 4"
      ]
    },
    {
      "cell_type": "code",
      "metadata": {
        "id": "z0fRjzP2_pUZ",
        "colab_type": "code",
        "colab": {}
      },
      "source": [
        "complete_pipeline = Pipeline([ ('preparation', full_pipeline), ('feature_selection', TopFeatureSelector(feature_importances, 5)), 'svm_reg', SVR(**rnd_search.best_params_) ])\n",
        "\n",
        "complete_pipeline.fit(housing, housing_labels)"
      ],
      "execution_count": null,
      "outputs": []
    },
    {
      "cell_type": "code",
      "metadata": {
        "id": "gmAfVC28BMcZ",
        "colab_type": "code",
        "colab": {}
      },
      "source": [
        "some_data = housing.iloc[:4]\n",
        "some_labels = housing_labels.iloc[:4]\n",
        "\n",
        "print(\"Predictions:\\t\", prepare_select_and_predict_pipeline.predict(some_data))\n",
        "print(\"Labels:\\t\\t\", list(some_labels))"
      ],
      "execution_count": null,
      "outputs": []
    },
    {
      "cell_type": "markdown",
      "metadata": {
        "id": "9JYaLhCjBUzx",
        "colab_type": "text"
      },
      "source": [
        "##Problem 5"
      ]
    },
    {
      "cell_type": "code",
      "metadata": {
        "id": "2a6CVHX0BW16",
        "colab_type": "code",
        "colab": {}
      },
      "source": [
        "param_grid = [{\n",
        "    'preparation__num__imputer__strategy': ['mean', 'median', 'most_frequent'],\n",
        "    'feature_selection__k': list(range(1, len(feature_importances) + 1))\n",
        "}]\n",
        "\n",
        "grid_search_prep = GridSearchCV(prepare_select_and_predict_pipeline, param_grid, cv=5,\n",
        "                                scoring='neg_mean_squared_error', verbose=2)\n",
        "grid_search_prep.fit(housing, housing_labels)"
      ],
      "execution_count": null,
      "outputs": []
    }
  ]
}